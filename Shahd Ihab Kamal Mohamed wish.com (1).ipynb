{
 "cells": [
  {
   "attachments": {
    "download.png": {
     "image/png": "[encoded data removed]"
    }
   },
   "cell_type": "markdown",
   "id": "bc92f03e",
   "metadata": {},
   "source": [
    "\n",
    "![download.png](attachment:download.png)"
   ]
  },
  {
   "cell_type": "markdown",
   "id": "e118a01d",
   "metadata": {},
   "source": [
    "## Problem Definition\n",
    "The dataset is the wish.com product dataset. We collected the data combined  with some available data. \n",
    "Some nosies are added to the dataset. The goal is to predict the product ratings given the other features known\n",
    "for a product on Wish.com. Ratings are in categories from 1 to 5.\n",
    "For one product, the higher the rating is, the more the customers like the product.\n",
    "In this way, when you have a new product to be put on wish.com, you can estimate how likely people will like your product,\n",
    "without actually listing out there. Also, by doing this, it helps us to understand under what certain conditions that a product\n",
    "will be highly rated, as a way to understand the customer base of the wish.com."
   ]
  },
  {
   "cell_type": "markdown",
   "id": "7982c119",
   "metadata": {},
   "source": [
    "## What is the input?\n",
    "Our input is a tabular dataset showing the ratings of certain products given other features known for a product on Wish.com\n",
    "The input consists of 33 features that represent each product such as the merchant name, merchant id , color of the products and its sizes ..etc .\n",
    "\n"
   ]
  },
  {
   "cell_type": "markdown",
   "id": "27a986a8",
   "metadata": {},
   "source": [
    "##  What is the output?\n",
    "The output are the ratings are in categories from 1 to 5"
   ]
  },
  {
   "cell_type": "markdown",
   "id": "518b5418",
   "metadata": {},
   "source": [
    "## What data mining function is required?\n",
    "Data Mining Functions\n",
    "1. Generalization, Characterization and Summarization\n",
    "2. Association and Correlation\n",
    "3. Classification & Prediction\n",
    "4. Clustering\n",
    "5. Outlier/Anomaly Analysis\n",
    "6. Time and Ordering \n",
    "7. Structure and Network Analysis\n",
    "8. Knowledge Evaluation\n",
    "\n",
    "The data mining in this problem requires Classification & Prediction After making Outlier/Anomaly Analysis and cleaning the data"
   ]
  },
  {
   "cell_type": "markdown",
   "id": "a16d73e0",
   "metadata": {},
   "source": [
    "##   What could be the challenges?\n",
    "The Challenges represented in:\n",
    "Missing data\n",
    "Repeated data\n",
    "Columns (or Features) that contain incompateble data type or data scale\n",
    "Columns (or Features) that contain text with different language\n",
    "There were so many colours\n",
    "There were so many sizes\n",
    "\n",
    "## What is the impact? \n",
    "The impact of using the raw data as it is, without cleaning and reprocessing, will result a model with low accuracy that doesn't learn well or a desired from the data in the traing stage\n",
    "\n",
    "the real-life impact of building a model that solve this problem is represent in making the e-commerce site (wish) predict the rating of product before the user rate it using the built model and this will lead to present the appropraite products for each user which will result the rais of customers satisfication in addition to increase the compainy profit\n",
    "\n",
    "##  What is an ideal solution?\n",
    "the ideal solution is to clean and preprocess the data before working with it\n",
    "\n",
    "Some of the possible solutions are:\n",
    "\n",
    "Filling the missing data with approprait value\n",
    "Try to edit the values of Columns (or Features) that contain incompateble data type or data scale in order to make it have the sapme datatype or range\n",
    "Replace the values of Columns (or Features) that contain text with different language with translated text\n"
   ]
  },
  {
   "cell_type": "markdown",
   "id": "933742e9",
   "metadata": {},
   "source": [
    "## highlights\n",
    "Customer personalization makes us understand who will buy our products, what kind of products and how we tell them about our products. In this dataset, we know that customers are looking products coloured in black, white, gray etc and looking for S, M, XS, etc product size.\n",
    "Because customers are price sensitive, merchants are suggested to analyze their pricing strategy by considering costs, market segmentation, competitors, product quality before competing in the market.\n",
    "\n",
    "## What is the experimental protocol used and how was it carried out?\n",
    "after loding the data and cleaning and preprocessing it, then encodig it using one hot encoding, the experimental protocol used is spliting the training dataset into train and test to fit the model using the new train data and measure the perormance (f1_score) of the model using the new test data and then make the prediction by using the original test dataset\n",
    "\n",
    "## What preprocessing steps are used?\n",
    "view the data and understand it\n",
    "using train.info() to get mor insight about the data\n",
    "check the missing data using train.isna().sum()\n",
    "removing featuers that contain same value for all the data point as it won't affect the learning of the model or the prediction resuls\n",
    "analysis each feature independently in order to:\n",
    "add appropraite value for missing data\n",
    "replace noise data with suitable value\n",
    "translate text values that writen in different language"
   ]
  },
  {
   "cell_type": "code",
   "execution_count": 1,
   "id": "97501911",
   "metadata": {},
   "outputs": [],
   "source": [
    "#importing the required libraries 📚\n",
    "import pandas as pd\n",
    "import numpy as np\n",
    "import seaborn as sns\n",
    "import matplotlib.pyplot as plt"
   ]
  },
  {
   "cell_type": "markdown",
   "id": "56d8f73e",
   "metadata": {},
   "source": [
    "## Data loading "
   ]
  },
  {
   "cell_type": "code",
   "execution_count": 2,
   "id": "d5220da3",
   "metadata": {},
   "outputs": [
    {
     "data": {
      "text/html": [
       "<div>\n",
       "<style scoped>\n",
       "    .dataframe tbody tr th:only-of-type {\n",
       "        vertical-align: middle;\n",
       "    }\n",
       "\n",
       "    .dataframe tbody tr th {\n",
       "        vertical-align: top;\n",
       "    }\n",
       "\n",
       "    .dataframe thead th {\n",
       "        text-align: right;\n",
       "    }\n",
       "</style>\n",
       "<table border=\"1\" class=\"dataframe\">\n",
       "  <thead>\n",
       "    <tr style=\"text-align: right;\">\n",
       "      <th></th>\n",
       "      <th>price</th>\n",
       "      <th>retail_price</th>\n",
       "      <th>currency_buyer</th>\n",
       "      <th>units_sold</th>\n",
       "      <th>uses_ad_boosts</th>\n",
       "      <th>rating</th>\n",
       "      <th>rating_count</th>\n",
       "      <th>badges_count</th>\n",
       "      <th>badge_local_product</th>\n",
       "      <th>badge_product_quality</th>\n",
       "      <th>...</th>\n",
       "      <th>merchant_name</th>\n",
       "      <th>merchant_info_subtitle</th>\n",
       "      <th>merchant_rating_count</th>\n",
       "      <th>merchant_rating</th>\n",
       "      <th>merchant_id</th>\n",
       "      <th>merchant_has_profile_picture</th>\n",
       "      <th>merchant_profile_picture</th>\n",
       "      <th>theme</th>\n",
       "      <th>crawl_month</th>\n",
       "      <th>id</th>\n",
       "    </tr>\n",
       "  </thead>\n",
       "  <tbody>\n",
       "    <tr>\n",
       "      <th>0</th>\n",
       "      <td>8.00</td>\n",
       "      <td>7</td>\n",
       "      <td>EUR</td>\n",
       "      <td>10000</td>\n",
       "      <td>1</td>\n",
       "      <td>4.0</td>\n",
       "      <td>1670</td>\n",
       "      <td>0</td>\n",
       "      <td>0</td>\n",
       "      <td>0</td>\n",
       "      <td>...</td>\n",
       "      <td>keepahorse</td>\n",
       "      <td>88 % avis positifs (66,644 notes)</td>\n",
       "      <td>66644</td>\n",
       "      <td>4.137582</td>\n",
       "      <td>577fb2b368116418674befd9</td>\n",
       "      <td>1</td>\n",
       "      <td>https://s3-us-west-1.amazonaws.com/sweeper-pro...</td>\n",
       "      <td>summer</td>\n",
       "      <td>2020-08</td>\n",
       "      <td>272</td>\n",
       "    </tr>\n",
       "    <tr>\n",
       "      <th>1</th>\n",
       "      <td>8.00</td>\n",
       "      <td>7</td>\n",
       "      <td>EUR</td>\n",
       "      <td>1000</td>\n",
       "      <td>0</td>\n",
       "      <td>4.0</td>\n",
       "      <td>843</td>\n",
       "      <td>1</td>\n",
       "      <td>1</td>\n",
       "      <td>0</td>\n",
       "      <td>...</td>\n",
       "      <td>上海铭启电气科技有限公司</td>\n",
       "      <td>91 % avis positifs (25,752 notes)</td>\n",
       "      <td>25752</td>\n",
       "      <td>4.256873</td>\n",
       "      <td>566a3ef17233ff2686443082</td>\n",
       "      <td>0</td>\n",
       "      <td>NaN</td>\n",
       "      <td>summer</td>\n",
       "      <td>2020-08</td>\n",
       "      <td>1515</td>\n",
       "    </tr>\n",
       "    <tr>\n",
       "      <th>2</th>\n",
       "      <td>6.00</td>\n",
       "      <td>34</td>\n",
       "      <td>EUR</td>\n",
       "      <td>100</td>\n",
       "      <td>0</td>\n",
       "      <td>4.0</td>\n",
       "      <td>10</td>\n",
       "      <td>0</td>\n",
       "      <td>0</td>\n",
       "      <td>0</td>\n",
       "      <td>...</td>\n",
       "      <td>zhaodongmei</td>\n",
       "      <td>83 % avis positifs (3,897 notes)</td>\n",
       "      <td>3897</td>\n",
       "      <td>3.928920</td>\n",
       "      <td>5aacd6c1ccf0c83e5a6f3de0</td>\n",
       "      <td>0</td>\n",
       "      <td>NaN</td>\n",
       "      <td>summer</td>\n",
       "      <td>2020-08</td>\n",
       "      <td>940</td>\n",
       "    </tr>\n",
       "    <tr>\n",
       "      <th>3</th>\n",
       "      <td>4.67</td>\n",
       "      <td>4</td>\n",
       "      <td>EUR</td>\n",
       "      <td>100</td>\n",
       "      <td>1</td>\n",
       "      <td>3.0</td>\n",
       "      <td>82</td>\n",
       "      <td>0</td>\n",
       "      <td>0</td>\n",
       "      <td>0</td>\n",
       "      <td>...</td>\n",
       "      <td>pookie0331</td>\n",
       "      <td>87 % avis positifs (7,497 notes)</td>\n",
       "      <td>7497</td>\n",
       "      <td>4.079365</td>\n",
       "      <td>583141fbfef4094e51453d9b</td>\n",
       "      <td>0</td>\n",
       "      <td>NaN</td>\n",
       "      <td>summer</td>\n",
       "      <td>2020-08</td>\n",
       "      <td>309</td>\n",
       "    </tr>\n",
       "    <tr>\n",
       "      <th>4</th>\n",
       "      <td>8.00</td>\n",
       "      <td>11</td>\n",
       "      <td>EUR</td>\n",
       "      <td>1000</td>\n",
       "      <td>0</td>\n",
       "      <td>4.0</td>\n",
       "      <td>127</td>\n",
       "      <td>0</td>\n",
       "      <td>0</td>\n",
       "      <td>0</td>\n",
       "      <td>...</td>\n",
       "      <td>shitongyi12683626</td>\n",
       "      <td>91 % avis positifs (173 notes)</td>\n",
       "      <td>173</td>\n",
       "      <td>4.306358</td>\n",
       "      <td>5d3bc9f8e13a7e654424a4cb</td>\n",
       "      <td>0</td>\n",
       "      <td>NaN</td>\n",
       "      <td>summer</td>\n",
       "      <td>2020-08</td>\n",
       "      <td>226</td>\n",
       "    </tr>\n",
       "    <tr>\n",
       "      <th>...</th>\n",
       "      <td>...</td>\n",
       "      <td>...</td>\n",
       "      <td>...</td>\n",
       "      <td>...</td>\n",
       "      <td>...</td>\n",
       "      <td>...</td>\n",
       "      <td>...</td>\n",
       "      <td>...</td>\n",
       "      <td>...</td>\n",
       "      <td>...</td>\n",
       "      <td>...</td>\n",
       "      <td>...</td>\n",
       "      <td>...</td>\n",
       "      <td>...</td>\n",
       "      <td>...</td>\n",
       "      <td>...</td>\n",
       "      <td>...</td>\n",
       "      <td>...</td>\n",
       "      <td>...</td>\n",
       "      <td>...</td>\n",
       "      <td>...</td>\n",
       "    </tr>\n",
       "    <tr>\n",
       "      <th>1089</th>\n",
       "      <td>4.00</td>\n",
       "      <td>4</td>\n",
       "      <td>EUR</td>\n",
       "      <td>10000</td>\n",
       "      <td>0</td>\n",
       "      <td>4.0</td>\n",
       "      <td>2150</td>\n",
       "      <td>0</td>\n",
       "      <td>0</td>\n",
       "      <td>0</td>\n",
       "      <td>...</td>\n",
       "      <td>fantastic_tune</td>\n",
       "      <td>92 % avis positifs (230,951 notes)</td>\n",
       "      <td>230951</td>\n",
       "      <td>4.311066</td>\n",
       "      <td>53f2db3c104dae6bcae0c271</td>\n",
       "      <td>0</td>\n",
       "      <td>NaN</td>\n",
       "      <td>summer</td>\n",
       "      <td>2020-08</td>\n",
       "      <td>1381</td>\n",
       "    </tr>\n",
       "    <tr>\n",
       "      <th>1090</th>\n",
       "      <td>5.00</td>\n",
       "      <td>5</td>\n",
       "      <td>EUR</td>\n",
       "      <td>1000</td>\n",
       "      <td>0</td>\n",
       "      <td>5.0</td>\n",
       "      <td>377</td>\n",
       "      <td>1</td>\n",
       "      <td>0</td>\n",
       "      <td>1</td>\n",
       "      <td>...</td>\n",
       "      <td>zzbllss</td>\n",
       "      <td>(2,904 notes)</td>\n",
       "      <td>2904</td>\n",
       "      <td>4.422521</td>\n",
       "      <td>592968ba63950d682ca4b195</td>\n",
       "      <td>0</td>\n",
       "      <td>NaN</td>\n",
       "      <td>summer</td>\n",
       "      <td>2020-08</td>\n",
       "      <td>212</td>\n",
       "    </tr>\n",
       "    <tr>\n",
       "      <th>1091</th>\n",
       "      <td>9.00</td>\n",
       "      <td>48</td>\n",
       "      <td>EUR</td>\n",
       "      <td>1000</td>\n",
       "      <td>1</td>\n",
       "      <td>4.0</td>\n",
       "      <td>135</td>\n",
       "      <td>0</td>\n",
       "      <td>0</td>\n",
       "      <td>0</td>\n",
       "      <td>...</td>\n",
       "      <td>oiug56465</td>\n",
       "      <td>78 % avis positifs (6,632 notes)</td>\n",
       "      <td>6632</td>\n",
       "      <td>3.748794</td>\n",
       "      <td>5b6ec2f2838d931d2fbf7a28</td>\n",
       "      <td>0</td>\n",
       "      <td>NaN</td>\n",
       "      <td>summer</td>\n",
       "      <td>2020-08</td>\n",
       "      <td>163</td>\n",
       "    </tr>\n",
       "    <tr>\n",
       "      <th>1092</th>\n",
       "      <td>11.00</td>\n",
       "      <td>10</td>\n",
       "      <td>EUR</td>\n",
       "      <td>10000</td>\n",
       "      <td>1</td>\n",
       "      <td>4.0</td>\n",
       "      <td>1479</td>\n",
       "      <td>0</td>\n",
       "      <td>0</td>\n",
       "      <td>0</td>\n",
       "      <td>...</td>\n",
       "      <td>yubenqiang</td>\n",
       "      <td>83 % avis positifs (5,816 notes)</td>\n",
       "      <td>5816</td>\n",
       "      <td>3.936382</td>\n",
       "      <td>58330d7def56284f7634e5e5</td>\n",
       "      <td>0</td>\n",
       "      <td>NaN</td>\n",
       "      <td>summer</td>\n",
       "      <td>2020-08</td>\n",
       "      <td>674</td>\n",
       "    </tr>\n",
       "    <tr>\n",
       "      <th>1093</th>\n",
       "      <td>7.00</td>\n",
       "      <td>6</td>\n",
       "      <td>EUR</td>\n",
       "      <td>1000</td>\n",
       "      <td>1</td>\n",
       "      <td>3.0</td>\n",
       "      <td>141</td>\n",
       "      <td>0</td>\n",
       "      <td>0</td>\n",
       "      <td>0</td>\n",
       "      <td>...</td>\n",
       "      <td>greatexpectationstechnology</td>\n",
       "      <td>86 % avis positifs (12,309 notes)</td>\n",
       "      <td>12309</td>\n",
       "      <td>4.045170</td>\n",
       "      <td>5acaf29d5ebcfd72403106a8</td>\n",
       "      <td>1</td>\n",
       "      <td>https://s3-us-west-1.amazonaws.com/sweeper-pro...</td>\n",
       "      <td>summer</td>\n",
       "      <td>2020-08</td>\n",
       "      <td>1536</td>\n",
       "    </tr>\n",
       "  </tbody>\n",
       "</table>\n",
       "<p>1094 rows × 34 columns</p>\n",
       "</div>"
      ],
      "text/plain": [
       "      price  retail_price currency_buyer  units_sold  uses_ad_boosts  rating  \\\n",
       "0      8.00             7            EUR       10000               1     4.0   \n",
       "1      8.00             7            EUR        1000               0     4.0   \n",
       "2      6.00            34            EUR         100               0     4.0   \n",
       "3      4.67             4            EUR         100               1     3.0   \n",
       "4      8.00            11            EUR        1000               0     4.0   \n",
       "...     ...           ...            ...         ...             ...     ...   \n",
       "1089   4.00             4            EUR       10000               0     4.0   \n",
       "1090   5.00             5            EUR        1000               0     5.0   \n",
       "1091   9.00            48            EUR        1000               1     4.0   \n",
       "1092  11.00            10            EUR       10000               1     4.0   \n",
       "1093   7.00             6            EUR        1000               1     3.0   \n",
       "\n",
       "      rating_count  badges_count  badge_local_product  badge_product_quality  \\\n",
       "0             1670             0                    0                      0   \n",
       "1              843             1                    1                      0   \n",
       "2               10             0                    0                      0   \n",
       "3               82             0                    0                      0   \n",
       "4              127             0                    0                      0   \n",
       "...            ...           ...                  ...                    ...   \n",
       "1089          2150             0                    0                      0   \n",
       "1090           377             1                    0                      1   \n",
       "1091           135             0                    0                      0   \n",
       "1092          1479             0                    0                      0   \n",
       "1093           141             0                    0                      0   \n",
       "\n",
       "      ...                merchant_name              merchant_info_subtitle  \\\n",
       "0     ...                   keepahorse   88 % avis positifs (66,644 notes)   \n",
       "1     ...                 上海铭启电气科技有限公司   91 % avis positifs (25,752 notes)   \n",
       "2     ...                  zhaodongmei    83 % avis positifs (3,897 notes)   \n",
       "3     ...                   pookie0331    87 % avis positifs (7,497 notes)   \n",
       "4     ...            shitongyi12683626      91 % avis positifs (173 notes)   \n",
       "...   ...                          ...                                 ...   \n",
       "1089  ...               fantastic_tune  92 % avis positifs (230,951 notes)   \n",
       "1090  ...                      zzbllss                       (2,904 notes)   \n",
       "1091  ...                    oiug56465    78 % avis positifs (6,632 notes)   \n",
       "1092  ...                   yubenqiang    83 % avis positifs (5,816 notes)   \n",
       "1093  ...  greatexpectationstechnology   86 % avis positifs (12,309 notes)   \n",
       "\n",
       "     merchant_rating_count merchant_rating               merchant_id  \\\n",
       "0                    66644        4.137582  577fb2b368116418674befd9   \n",
       "1                    25752        4.256873  566a3ef17233ff2686443082   \n",
       "2                     3897        3.928920  5aacd6c1ccf0c83e5a6f3de0   \n",
       "3                     7497        4.079365  583141fbfef4094e51453d9b   \n",
       "4                      173        4.306358  5d3bc9f8e13a7e654424a4cb   \n",
       "...                    ...             ...                       ...   \n",
       "1089                230951        4.311066  53f2db3c104dae6bcae0c271   \n",
       "1090                  2904        4.422521  592968ba63950d682ca4b195   \n",
       "1091                  6632        3.748794  5b6ec2f2838d931d2fbf7a28   \n",
       "1092                  5816        3.936382  58330d7def56284f7634e5e5   \n",
       "1093                 12309        4.045170  5acaf29d5ebcfd72403106a8   \n",
       "\n",
       "     merchant_has_profile_picture  \\\n",
       "0                               1   \n",
       "1                               0   \n",
       "2                               0   \n",
       "3                               0   \n",
       "4                               0   \n",
       "...                           ...   \n",
       "1089                            0   \n",
       "1090                            0   \n",
       "1091                            0   \n",
       "1092                            0   \n",
       "1093                            1   \n",
       "\n",
       "                               merchant_profile_picture   theme  crawl_month  \\\n",
       "0     https://s3-us-west-1.amazonaws.com/sweeper-pro...  summer      2020-08   \n",
       "1                                                   NaN  summer      2020-08   \n",
       "2                                                   NaN  summer      2020-08   \n",
       "3                                                   NaN  summer      2020-08   \n",
       "4                                                   NaN  summer      2020-08   \n",
       "...                                                 ...     ...          ...   \n",
       "1089                                                NaN  summer      2020-08   \n",
       "1090                                                NaN  summer      2020-08   \n",
       "1091                                                NaN  summer      2020-08   \n",
       "1092                                                NaN  summer      2020-08   \n",
       "1093  https://s3-us-west-1.amazonaws.com/sweeper-pro...  summer      2020-08   \n",
       "\n",
       "        id  \n",
       "0      272  \n",
       "1     1515  \n",
       "2      940  \n",
       "3      309  \n",
       "4      226  \n",
       "...    ...  \n",
       "1089  1381  \n",
       "1090   212  \n",
       "1091   163  \n",
       "1092   674  \n",
       "1093  1536  \n",
       "\n",
       "[1094 rows x 34 columns]"
      ]
     },
     "execution_count": 2,
     "metadata": {},
     "output_type": "execute_result"
    }
   ],
   "source": [
    "#Reading the training dataset🤓\n",
    "train = pd.read_csv('train_new.csv') \n",
    "train"
   ]
  },
  {
   "cell_type": "code",
   "execution_count": 3,
   "id": "2067981b",
   "metadata": {},
   "outputs": [
    {
     "data": {
      "text/html": [
       "<div>\n",
       "<style scoped>\n",
       "    .dataframe tbody tr th:only-of-type {\n",
       "        vertical-align: middle;\n",
       "    }\n",
       "\n",
       "    .dataframe tbody tr th {\n",
       "        vertical-align: top;\n",
       "    }\n",
       "\n",
       "    .dataframe thead th {\n",
       "        text-align: right;\n",
       "    }\n",
       "</style>\n",
       "<table border=\"1\" class=\"dataframe\">\n",
       "  <thead>\n",
       "    <tr style=\"text-align: right;\">\n",
       "      <th></th>\n",
       "      <th>price</th>\n",
       "      <th>retail_price</th>\n",
       "      <th>currency_buyer</th>\n",
       "      <th>units_sold</th>\n",
       "      <th>uses_ad_boosts</th>\n",
       "      <th>rating_count</th>\n",
       "      <th>badges_count</th>\n",
       "      <th>badge_local_product</th>\n",
       "      <th>badge_product_quality</th>\n",
       "      <th>badge_fast_shipping</th>\n",
       "      <th>...</th>\n",
       "      <th>merchant_name</th>\n",
       "      <th>merchant_info_subtitle</th>\n",
       "      <th>merchant_rating_count</th>\n",
       "      <th>merchant_rating</th>\n",
       "      <th>merchant_id</th>\n",
       "      <th>merchant_has_profile_picture</th>\n",
       "      <th>merchant_profile_picture</th>\n",
       "      <th>theme</th>\n",
       "      <th>crawl_month</th>\n",
       "      <th>id</th>\n",
       "    </tr>\n",
       "  </thead>\n",
       "  <tbody>\n",
       "    <tr>\n",
       "      <th>0</th>\n",
       "      <td>5.75</td>\n",
       "      <td>5</td>\n",
       "      <td>EUR</td>\n",
       "      <td>10</td>\n",
       "      <td>1</td>\n",
       "      <td>0</td>\n",
       "      <td>0</td>\n",
       "      <td>0</td>\n",
       "      <td>0</td>\n",
       "      <td>0</td>\n",
       "      <td>...</td>\n",
       "      <td>liyang163</td>\n",
       "      <td>33 % avis positifs (3 notes)</td>\n",
       "      <td>3</td>\n",
       "      <td>2.333333</td>\n",
       "      <td>5e63469b2fdc774466e15dd5</td>\n",
       "      <td>0</td>\n",
       "      <td>NaN</td>\n",
       "      <td>summer</td>\n",
       "      <td>2020-08</td>\n",
       "      <td>937</td>\n",
       "    </tr>\n",
       "    <tr>\n",
       "      <th>1</th>\n",
       "      <td>7.00</td>\n",
       "      <td>7</td>\n",
       "      <td>EUR</td>\n",
       "      <td>5000</td>\n",
       "      <td>0</td>\n",
       "      <td>579</td>\n",
       "      <td>0</td>\n",
       "      <td>0</td>\n",
       "      <td>0</td>\n",
       "      <td>0</td>\n",
       "      <td>...</td>\n",
       "      <td>singingthesong</td>\n",
       "      <td>86 % avis positifs (4,213 notes)</td>\n",
       "      <td>4213</td>\n",
       "      <td>4.058391</td>\n",
       "      <td>583547f417dc6224cb464117</td>\n",
       "      <td>0</td>\n",
       "      <td>NaN</td>\n",
       "      <td>summer</td>\n",
       "      <td>2020-08</td>\n",
       "      <td>270</td>\n",
       "    </tr>\n",
       "    <tr>\n",
       "      <th>2</th>\n",
       "      <td>5.00</td>\n",
       "      <td>16</td>\n",
       "      <td>EUR</td>\n",
       "      <td>1000</td>\n",
       "      <td>1</td>\n",
       "      <td>62</td>\n",
       "      <td>0</td>\n",
       "      <td>0</td>\n",
       "      <td>0</td>\n",
       "      <td>0</td>\n",
       "      <td>...</td>\n",
       "      <td>surperboutique</td>\n",
       "      <td>85 % avis positifs (10,501 notes)</td>\n",
       "      <td>10501</td>\n",
       "      <td>4.029235</td>\n",
       "      <td>57086fd7fa6bee434d0e5852</td>\n",
       "      <td>0</td>\n",
       "      <td>NaN</td>\n",
       "      <td>summer</td>\n",
       "      <td>2020-08</td>\n",
       "      <td>308</td>\n",
       "    </tr>\n",
       "    <tr>\n",
       "      <th>3</th>\n",
       "      <td>18.00</td>\n",
       "      <td>27</td>\n",
       "      <td>EUR</td>\n",
       "      <td>5000</td>\n",
       "      <td>1</td>\n",
       "      <td>1903</td>\n",
       "      <td>0</td>\n",
       "      <td>0</td>\n",
       "      <td>0</td>\n",
       "      <td>0</td>\n",
       "      <td>...</td>\n",
       "      <td>postonny</td>\n",
       "      <td>86 % avis positifs (15,855 notes)</td>\n",
       "      <td>15855</td>\n",
       "      <td>4.052917</td>\n",
       "      <td>5a17b55d1f4d8c4f0b44b0ce</td>\n",
       "      <td>0</td>\n",
       "      <td>NaN</td>\n",
       "      <td>summer</td>\n",
       "      <td>2020-08</td>\n",
       "      <td>913</td>\n",
       "    </tr>\n",
       "    <tr>\n",
       "      <th>4</th>\n",
       "      <td>12.00</td>\n",
       "      <td>81</td>\n",
       "      <td>EUR</td>\n",
       "      <td>20000</td>\n",
       "      <td>0</td>\n",
       "      <td>1799</td>\n",
       "      <td>0</td>\n",
       "      <td>0</td>\n",
       "      <td>0</td>\n",
       "      <td>0</td>\n",
       "      <td>...</td>\n",
       "      <td>guangzhouchanny</td>\n",
       "      <td>88 % avis positifs (151,914 notes)</td>\n",
       "      <td>151914</td>\n",
       "      <td>4.127921</td>\n",
       "      <td>53aa664438d3046ee44a5024</td>\n",
       "      <td>0</td>\n",
       "      <td>NaN</td>\n",
       "      <td>summer</td>\n",
       "      <td>2020-08</td>\n",
       "      <td>403</td>\n",
       "    </tr>\n",
       "  </tbody>\n",
       "</table>\n",
       "<p>5 rows × 33 columns</p>\n",
       "</div>"
      ],
      "text/plain": [
       "   price  retail_price currency_buyer  units_sold  uses_ad_boosts  \\\n",
       "0   5.75             5            EUR          10               1   \n",
       "1   7.00             7            EUR        5000               0   \n",
       "2   5.00            16            EUR        1000               1   \n",
       "3  18.00            27            EUR        5000               1   \n",
       "4  12.00            81            EUR       20000               0   \n",
       "\n",
       "   rating_count  badges_count  badge_local_product  badge_product_quality  \\\n",
       "0             0             0                    0                      0   \n",
       "1           579             0                    0                      0   \n",
       "2            62             0                    0                      0   \n",
       "3          1903             0                    0                      0   \n",
       "4          1799             0                    0                      0   \n",
       "\n",
       "   badge_fast_shipping  ...    merchant_name  \\\n",
       "0                    0  ...        liyang163   \n",
       "1                    0  ...   singingthesong   \n",
       "2                    0  ...   surperboutique   \n",
       "3                    0  ...         postonny   \n",
       "4                    0  ...  guangzhouchanny   \n",
       "\n",
       "               merchant_info_subtitle merchant_rating_count  merchant_rating  \\\n",
       "0        33 % avis positifs (3 notes)                     3         2.333333   \n",
       "1    86 % avis positifs (4,213 notes)                  4213         4.058391   \n",
       "2   85 % avis positifs (10,501 notes)                 10501         4.029235   \n",
       "3   86 % avis positifs (15,855 notes)                 15855         4.052917   \n",
       "4  88 % avis positifs (151,914 notes)                151914         4.127921   \n",
       "\n",
       "                merchant_id  merchant_has_profile_picture  \\\n",
       "0  5e63469b2fdc774466e15dd5                             0   \n",
       "1  583547f417dc6224cb464117                             0   \n",
       "2  57086fd7fa6bee434d0e5852                             0   \n",
       "3  5a17b55d1f4d8c4f0b44b0ce                             0   \n",
       "4  53aa664438d3046ee44a5024                             0   \n",
       "\n",
       "   merchant_profile_picture   theme  crawl_month   id  \n",
       "0                       NaN  summer      2020-08  937  \n",
       "1                       NaN  summer      2020-08  270  \n",
       "2                       NaN  summer      2020-08  308  \n",
       "3                       NaN  summer      2020-08  913  \n",
       "4                       NaN  summer      2020-08  403  \n",
       "\n",
       "[5 rows x 33 columns]"
      ]
     },
     "execution_count": 3,
     "metadata": {},
     "output_type": "execute_result"
    }
   ],
   "source": [
    "#Reading the testing dataset🤓\n",
    "test = pd.read_csv('test_new.csv') \n",
    "test.head()"
   ]
  },
  {
   "cell_type": "code",
   "execution_count": 4,
   "id": "7150f501",
   "metadata": {},
   "outputs": [
    {
     "data": {
      "text/plain": [
       "(1094, 34)"
      ]
     },
     "execution_count": 4,
     "metadata": {},
     "output_type": "execute_result"
    }
   ],
   "source": [
    "# returns the shape of an array\n",
    "train.shape"
   ]
  },
  {
   "cell_type": "code",
   "execution_count": 5,
   "id": "94173fe1",
   "metadata": {},
   "outputs": [
    {
     "data": {
      "text/plain": [
       "(479, 33)"
      ]
     },
     "execution_count": 5,
     "metadata": {},
     "output_type": "execute_result"
    }
   ],
   "source": [
    "#returns the shape of an array\n",
    "test.shape"
   ]
  },
  {
   "cell_type": "markdown",
   "id": "04ccf871",
   "metadata": {},
   "source": [
    "## Data visualization"
   ]
  },
  {
   "cell_type": "code",
   "execution_count": 6,
   "id": "e8e0e6a6",
   "metadata": {},
   "outputs": [
    {
     "data": {
      "image/png": "[encoded data removed]",
      "text/plain": [
       "<Figure size 800x1200 with 2 Axes>"
      ]
     },
     "metadata": {},
     "output_type": "display_data"
    }
   ],
   "source": [
    "#Features Correlating with units_sold 🤓\n",
    "target_col = 'units_sold'\n",
    "plt.figure(figsize=(8, 12))\n",
    "heatmap = sns.heatmap(train.corr()[[target_col]].sort_values(by=target_col, ascending=False), vmin=-1, vmax=1, annot=True, cmap='BrBG')\n",
    "heatmap.set_title(f'Features Correlating with {target_col}', fontdict={'fontsize':18}, pad=16);"
   ]
  },
  {
   "cell_type": "code",
   "execution_count": 7,
   "id": "ecb0dc1e",
   "metadata": {},
   "outputs": [
    {
     "name": "stdout",
     "output_type": "stream",
     "text": [
      "<class 'pandas.core.frame.DataFrame'>\n",
      "RangeIndex: 1094 entries, 0 to 1093\n",
      "Data columns (total 34 columns):\n",
      " #   Column                        Non-Null Count  Dtype  \n",
      "---  ------                        --------------  -----  \n",
      " 0   price                         1094 non-null   float64\n",
      " 1   retail_price                  1094 non-null   int64  \n",
      " 2   currency_buyer                1094 non-null   object \n",
      " 3   units_sold                    1094 non-null   int64  \n",
      " 4   uses_ad_boosts                1094 non-null   int64  \n",
      " 5   rating                        1094 non-null   float64\n",
      " 6   rating_count                  1094 non-null   int64  \n",
      " 7   badges_count                  1094 non-null   int64  \n",
      " 8   badge_local_product           1094 non-null   int64  \n",
      " 9   badge_product_quality         1094 non-null   int64  \n",
      " 10  badge_fast_shipping           1094 non-null   int64  \n",
      " 11  tags                          1094 non-null   object \n",
      " 12  product_color                 1065 non-null   object \n",
      " 13  product_variation_size_id     1082 non-null   object \n",
      " 14  product_variation_inventory   1094 non-null   int64  \n",
      " 15  shipping_option_name          1094 non-null   object \n",
      " 16  shipping_option_price         1094 non-null   int64  \n",
      " 17  shipping_is_express           1094 non-null   int64  \n",
      " 18  countries_shipped_to          1094 non-null   int64  \n",
      " 19  inventory_total               1094 non-null   int64  \n",
      " 20  has_urgency_banner            349 non-null    float64\n",
      " 21  urgency_text                  349 non-null    object \n",
      " 22  origin_country                1082 non-null   object \n",
      " 23  merchant_title                1094 non-null   object \n",
      " 24  merchant_name                 1090 non-null   object \n",
      " 25  merchant_info_subtitle        1094 non-null   object \n",
      " 26  merchant_rating_count         1094 non-null   int64  \n",
      " 27  merchant_rating               1094 non-null   float64\n",
      " 28  merchant_id                   1094 non-null   object \n",
      " 29  merchant_has_profile_picture  1094 non-null   int64  \n",
      " 30  merchant_profile_picture      170 non-null    object \n",
      " 31  theme                         1094 non-null   object \n",
      " 32  crawl_month                   1094 non-null   object \n",
      " 33  id                            1094 non-null   int64  \n",
      "dtypes: float64(4), int64(16), object(14)\n",
      "memory usage: 290.7+ KB\n"
     ]
    }
   ],
   "source": [
    "train.info()"
   ]
  },
  {
   "cell_type": "code",
   "execution_count": 8,
   "id": "07915d39",
   "metadata": {},
   "outputs": [
    {
     "data": {
      "text/html": [
       "<div>\n",
       "<style scoped>\n",
       "    .dataframe tbody tr th:only-of-type {\n",
       "        vertical-align: middle;\n",
       "    }\n",
       "\n",
       "    .dataframe tbody tr th {\n",
       "        vertical-align: top;\n",
       "    }\n",
       "\n",
       "    .dataframe thead th {\n",
       "        text-align: right;\n",
       "    }\n",
       "</style>\n",
       "<table border=\"1\" class=\"dataframe\">\n",
       "  <thead>\n",
       "    <tr style=\"text-align: right;\">\n",
       "      <th></th>\n",
       "      <th>price</th>\n",
       "      <th>retail_price</th>\n",
       "      <th>currency_buyer</th>\n",
       "      <th>units_sold</th>\n",
       "      <th>uses_ad_boosts</th>\n",
       "      <th>rating</th>\n",
       "      <th>rating_count</th>\n",
       "      <th>badges_count</th>\n",
       "      <th>badge_local_product</th>\n",
       "      <th>badge_product_quality</th>\n",
       "      <th>...</th>\n",
       "      <th>merchant_name</th>\n",
       "      <th>merchant_info_subtitle</th>\n",
       "      <th>merchant_rating_count</th>\n",
       "      <th>merchant_rating</th>\n",
       "      <th>merchant_id</th>\n",
       "      <th>merchant_has_profile_picture</th>\n",
       "      <th>merchant_profile_picture</th>\n",
       "      <th>theme</th>\n",
       "      <th>crawl_month</th>\n",
       "      <th>id</th>\n",
       "    </tr>\n",
       "  </thead>\n",
       "  <tbody>\n",
       "    <tr>\n",
       "      <th>0</th>\n",
       "      <td>8.00</td>\n",
       "      <td>7</td>\n",
       "      <td>EUR</td>\n",
       "      <td>10000</td>\n",
       "      <td>1</td>\n",
       "      <td>4.0</td>\n",
       "      <td>1670</td>\n",
       "      <td>0</td>\n",
       "      <td>0</td>\n",
       "      <td>0</td>\n",
       "      <td>...</td>\n",
       "      <td>keepahorse</td>\n",
       "      <td>88 % avis positifs (66,644 notes)</td>\n",
       "      <td>66644</td>\n",
       "      <td>4.137582</td>\n",
       "      <td>577fb2b368116418674befd9</td>\n",
       "      <td>1</td>\n",
       "      <td>https://s3-us-west-1.amazonaws.com/sweeper-pro...</td>\n",
       "      <td>summer</td>\n",
       "      <td>2020-08</td>\n",
       "      <td>272</td>\n",
       "    </tr>\n",
       "    <tr>\n",
       "      <th>1</th>\n",
       "      <td>8.00</td>\n",
       "      <td>7</td>\n",
       "      <td>EUR</td>\n",
       "      <td>1000</td>\n",
       "      <td>0</td>\n",
       "      <td>4.0</td>\n",
       "      <td>843</td>\n",
       "      <td>1</td>\n",
       "      <td>1</td>\n",
       "      <td>0</td>\n",
       "      <td>...</td>\n",
       "      <td>上海铭启电气科技有限公司</td>\n",
       "      <td>91 % avis positifs (25,752 notes)</td>\n",
       "      <td>25752</td>\n",
       "      <td>4.256873</td>\n",
       "      <td>566a3ef17233ff2686443082</td>\n",
       "      <td>0</td>\n",
       "      <td>NaN</td>\n",
       "      <td>summer</td>\n",
       "      <td>2020-08</td>\n",
       "      <td>1515</td>\n",
       "    </tr>\n",
       "    <tr>\n",
       "      <th>2</th>\n",
       "      <td>6.00</td>\n",
       "      <td>34</td>\n",
       "      <td>EUR</td>\n",
       "      <td>100</td>\n",
       "      <td>0</td>\n",
       "      <td>4.0</td>\n",
       "      <td>10</td>\n",
       "      <td>0</td>\n",
       "      <td>0</td>\n",
       "      <td>0</td>\n",
       "      <td>...</td>\n",
       "      <td>zhaodongmei</td>\n",
       "      <td>83 % avis positifs (3,897 notes)</td>\n",
       "      <td>3897</td>\n",
       "      <td>3.928920</td>\n",
       "      <td>5aacd6c1ccf0c83e5a6f3de0</td>\n",
       "      <td>0</td>\n",
       "      <td>NaN</td>\n",
       "      <td>summer</td>\n",
       "      <td>2020-08</td>\n",
       "      <td>940</td>\n",
       "    </tr>\n",
       "    <tr>\n",
       "      <th>3</th>\n",
       "      <td>4.67</td>\n",
       "      <td>4</td>\n",
       "      <td>EUR</td>\n",
       "      <td>100</td>\n",
       "      <td>1</td>\n",
       "      <td>3.0</td>\n",
       "      <td>82</td>\n",
       "      <td>0</td>\n",
       "      <td>0</td>\n",
       "      <td>0</td>\n",
       "      <td>...</td>\n",
       "      <td>pookie0331</td>\n",
       "      <td>87 % avis positifs (7,497 notes)</td>\n",
       "      <td>7497</td>\n",
       "      <td>4.079365</td>\n",
       "      <td>583141fbfef4094e51453d9b</td>\n",
       "      <td>0</td>\n",
       "      <td>NaN</td>\n",
       "      <td>summer</td>\n",
       "      <td>2020-08</td>\n",
       "      <td>309</td>\n",
       "    </tr>\n",
       "    <tr>\n",
       "      <th>4</th>\n",
       "      <td>8.00</td>\n",
       "      <td>11</td>\n",
       "      <td>EUR</td>\n",
       "      <td>1000</td>\n",
       "      <td>0</td>\n",
       "      <td>4.0</td>\n",
       "      <td>127</td>\n",
       "      <td>0</td>\n",
       "      <td>0</td>\n",
       "      <td>0</td>\n",
       "      <td>...</td>\n",
       "      <td>shitongyi12683626</td>\n",
       "      <td>91 % avis positifs (173 notes)</td>\n",
       "      <td>173</td>\n",
       "      <td>4.306358</td>\n",
       "      <td>5d3bc9f8e13a7e654424a4cb</td>\n",
       "      <td>0</td>\n",
       "      <td>NaN</td>\n",
       "      <td>summer</td>\n",
       "      <td>2020-08</td>\n",
       "      <td>226</td>\n",
       "    </tr>\n",
       "    <tr>\n",
       "      <th>...</th>\n",
       "      <td>...</td>\n",
       "      <td>...</td>\n",
       "      <td>...</td>\n",
       "      <td>...</td>\n",
       "      <td>...</td>\n",
       "      <td>...</td>\n",
       "      <td>...</td>\n",
       "      <td>...</td>\n",
       "      <td>...</td>\n",
       "      <td>...</td>\n",
       "      <td>...</td>\n",
       "      <td>...</td>\n",
       "      <td>...</td>\n",
       "      <td>...</td>\n",
       "      <td>...</td>\n",
       "      <td>...</td>\n",
       "      <td>...</td>\n",
       "      <td>...</td>\n",
       "      <td>...</td>\n",
       "      <td>...</td>\n",
       "      <td>...</td>\n",
       "    </tr>\n",
       "    <tr>\n",
       "      <th>1089</th>\n",
       "      <td>4.00</td>\n",
       "      <td>4</td>\n",
       "      <td>EUR</td>\n",
       "      <td>10000</td>\n",
       "      <td>0</td>\n",
       "      <td>4.0</td>\n",
       "      <td>2150</td>\n",
       "      <td>0</td>\n",
       "      <td>0</td>\n",
       "      <td>0</td>\n",
       "      <td>...</td>\n",
       "      <td>fantastic_tune</td>\n",
       "      <td>92 % avis positifs (230,951 notes)</td>\n",
       "      <td>230951</td>\n",
       "      <td>4.311066</td>\n",
       "      <td>53f2db3c104dae6bcae0c271</td>\n",
       "      <td>0</td>\n",
       "      <td>NaN</td>\n",
       "      <td>summer</td>\n",
       "      <td>2020-08</td>\n",
       "      <td>1381</td>\n",
       "    </tr>\n",
       "    <tr>\n",
       "      <th>1090</th>\n",
       "      <td>5.00</td>\n",
       "      <td>5</td>\n",
       "      <td>EUR</td>\n",
       "      <td>1000</td>\n",
       "      <td>0</td>\n",
       "      <td>5.0</td>\n",
       "      <td>377</td>\n",
       "      <td>1</td>\n",
       "      <td>0</td>\n",
       "      <td>1</td>\n",
       "      <td>...</td>\n",
       "      <td>zzbllss</td>\n",
       "      <td>(2,904 notes)</td>\n",
       "      <td>2904</td>\n",
       "      <td>4.422521</td>\n",
       "      <td>592968ba63950d682ca4b195</td>\n",
       "      <td>0</td>\n",
       "      <td>NaN</td>\n",
       "      <td>summer</td>\n",
       "      <td>2020-08</td>\n",
       "      <td>212</td>\n",
       "    </tr>\n",
       "    <tr>\n",
       "      <th>1091</th>\n",
       "      <td>9.00</td>\n",
       "      <td>48</td>\n",
       "      <td>EUR</td>\n",
       "      <td>1000</td>\n",
       "      <td>1</td>\n",
       "      <td>4.0</td>\n",
       "      <td>135</td>\n",
       "      <td>0</td>\n",
       "      <td>0</td>\n",
       "      <td>0</td>\n",
       "      <td>...</td>\n",
       "      <td>oiug56465</td>\n",
       "      <td>78 % avis positifs (6,632 notes)</td>\n",
       "      <td>6632</td>\n",
       "      <td>3.748794</td>\n",
       "      <td>5b6ec2f2838d931d2fbf7a28</td>\n",
       "      <td>0</td>\n",
       "      <td>NaN</td>\n",
       "      <td>summer</td>\n",
       "      <td>2020-08</td>\n",
       "      <td>163</td>\n",
       "    </tr>\n",
       "    <tr>\n",
       "      <th>1092</th>\n",
       "      <td>11.00</td>\n",
       "      <td>10</td>\n",
       "      <td>EUR</td>\n",
       "      <td>10000</td>\n",
       "      <td>1</td>\n",
       "      <td>4.0</td>\n",
       "      <td>1479</td>\n",
       "      <td>0</td>\n",
       "      <td>0</td>\n",
       "      <td>0</td>\n",
       "      <td>...</td>\n",
       "      <td>yubenqiang</td>\n",
       "      <td>83 % avis positifs (5,816 notes)</td>\n",
       "      <td>5816</td>\n",
       "      <td>3.936382</td>\n",
       "      <td>58330d7def56284f7634e5e5</td>\n",
       "      <td>0</td>\n",
       "      <td>NaN</td>\n",
       "      <td>summer</td>\n",
       "      <td>2020-08</td>\n",
       "      <td>674</td>\n",
       "    </tr>\n",
       "    <tr>\n",
       "      <th>1093</th>\n",
       "      <td>7.00</td>\n",
       "      <td>6</td>\n",
       "      <td>EUR</td>\n",
       "      <td>1000</td>\n",
       "      <td>1</td>\n",
       "      <td>3.0</td>\n",
       "      <td>141</td>\n",
       "      <td>0</td>\n",
       "      <td>0</td>\n",
       "      <td>0</td>\n",
       "      <td>...</td>\n",
       "      <td>greatexpectationstechnology</td>\n",
       "      <td>86 % avis positifs (12,309 notes)</td>\n",
       "      <td>12309</td>\n",
       "      <td>4.045170</td>\n",
       "      <td>5acaf29d5ebcfd72403106a8</td>\n",
       "      <td>1</td>\n",
       "      <td>https://s3-us-west-1.amazonaws.com/sweeper-pro...</td>\n",
       "      <td>summer</td>\n",
       "      <td>2020-08</td>\n",
       "      <td>1536</td>\n",
       "    </tr>\n",
       "  </tbody>\n",
       "</table>\n",
       "<p>1094 rows × 34 columns</p>\n",
       "</div>"
      ],
      "text/plain": [
       "      price  retail_price currency_buyer  units_sold  uses_ad_boosts  rating  \\\n",
       "0      8.00             7            EUR       10000               1     4.0   \n",
       "1      8.00             7            EUR        1000               0     4.0   \n",
       "2      6.00            34            EUR         100               0     4.0   \n",
       "3      4.67             4            EUR         100               1     3.0   \n",
       "4      8.00            11            EUR        1000               0     4.0   \n",
       "...     ...           ...            ...         ...             ...     ...   \n",
       "1089   4.00             4            EUR       10000               0     4.0   \n",
       "1090   5.00             5            EUR        1000               0     5.0   \n",
       "1091   9.00            48            EUR        1000               1     4.0   \n",
       "1092  11.00            10            EUR       10000               1     4.0   \n",
       "1093   7.00             6            EUR        1000               1     3.0   \n",
       "\n",
       "      rating_count  badges_count  badge_local_product  badge_product_quality  \\\n",
       "0             1670             0                    0                      0   \n",
       "1              843             1                    1                      0   \n",
       "2               10             0                    0                      0   \n",
       "3               82             0                    0                      0   \n",
       "4              127             0                    0                      0   \n",
       "...            ...           ...                  ...                    ...   \n",
       "1089          2150             0                    0                      0   \n",
       "1090           377             1                    0                      1   \n",
       "1091           135             0                    0                      0   \n",
       "1092          1479             0                    0                      0   \n",
       "1093           141             0                    0                      0   \n",
       "\n",
       "      ...                merchant_name              merchant_info_subtitle  \\\n",
       "0     ...                   keepahorse   88 % avis positifs (66,644 notes)   \n",
       "1     ...                 上海铭启电气科技有限公司   91 % avis positifs (25,752 notes)   \n",
       "2     ...                  zhaodongmei    83 % avis positifs (3,897 notes)   \n",
       "3     ...                   pookie0331    87 % avis positifs (7,497 notes)   \n",
       "4     ...            shitongyi12683626      91 % avis positifs (173 notes)   \n",
       "...   ...                          ...                                 ...   \n",
       "1089  ...               fantastic_tune  92 % avis positifs (230,951 notes)   \n",
       "1090  ...                      zzbllss                       (2,904 notes)   \n",
       "1091  ...                    oiug56465    78 % avis positifs (6,632 notes)   \n",
       "1092  ...                   yubenqiang    83 % avis positifs (5,816 notes)   \n",
       "1093  ...  greatexpectationstechnology   86 % avis positifs (12,309 notes)   \n",
       "\n",
       "     merchant_rating_count merchant_rating               merchant_id  \\\n",
       "0                    66644        4.137582  577fb2b368116418674befd9   \n",
       "1                    25752        4.256873  566a3ef17233ff2686443082   \n",
       "2                     3897        3.928920  5aacd6c1ccf0c83e5a6f3de0   \n",
       "3                     7497        4.079365  583141fbfef4094e51453d9b   \n",
       "4                      173        4.306358  5d3bc9f8e13a7e654424a4cb   \n",
       "...                    ...             ...                       ...   \n",
       "1089                230951        4.311066  53f2db3c104dae6bcae0c271   \n",
       "1090                  2904        4.422521  592968ba63950d682ca4b195   \n",
       "1091                  6632        3.748794  5b6ec2f2838d931d2fbf7a28   \n",
       "1092                  5816        3.936382  58330d7def56284f7634e5e5   \n",
       "1093                 12309        4.045170  5acaf29d5ebcfd72403106a8   \n",
       "\n",
       "     merchant_has_profile_picture  \\\n",
       "0                               1   \n",
       "1                               0   \n",
       "2                               0   \n",
       "3                               0   \n",
       "4                               0   \n",
       "...                           ...   \n",
       "1089                            0   \n",
       "1090                            0   \n",
       "1091                            0   \n",
       "1092                            0   \n",
       "1093                            1   \n",
       "\n",
       "                               merchant_profile_picture   theme  crawl_month  \\\n",
       "0     https://s3-us-west-1.amazonaws.com/sweeper-pro...  summer      2020-08   \n",
       "1                                                   NaN  summer      2020-08   \n",
       "2                                                   NaN  summer      2020-08   \n",
       "3                                                   NaN  summer      2020-08   \n",
       "4                                                   NaN  summer      2020-08   \n",
       "...                                                 ...     ...          ...   \n",
       "1089                                                NaN  summer      2020-08   \n",
       "1090                                                NaN  summer      2020-08   \n",
       "1091                                                NaN  summer      2020-08   \n",
       "1092                                                NaN  summer      2020-08   \n",
       "1093  https://s3-us-west-1.amazonaws.com/sweeper-pro...  summer      2020-08   \n",
       "\n",
       "        id  \n",
       "0      272  \n",
       "1     1515  \n",
       "2      940  \n",
       "3      309  \n",
       "4      226  \n",
       "...    ...  \n",
       "1089  1381  \n",
       "1090   212  \n",
       "1091   163  \n",
       "1092   674  \n",
       "1093  1536  \n",
       "\n",
       "[1094 rows x 34 columns]"
      ]
     },
     "execution_count": 8,
     "metadata": {},
     "output_type": "execute_result"
    }
   ],
   "source": [
    "#remove duplicates 👻\n",
    "train = train.drop_duplicates()\n",
    "test = test.drop_duplicates()\n",
    "train"
   ]
  },
  {
   "cell_type": "code",
   "execution_count": 9,
   "id": "52736614",
   "metadata": {},
   "outputs": [
    {
     "data": {
      "text/html": [
       "<div>\n",
       "<style scoped>\n",
       "    .dataframe tbody tr th:only-of-type {\n",
       "        vertical-align: middle;\n",
       "    }\n",
       "\n",
       "    .dataframe tbody tr th {\n",
       "        vertical-align: top;\n",
       "    }\n",
       "\n",
       "    .dataframe thead th {\n",
       "        text-align: right;\n",
       "    }\n",
       "</style>\n",
       "<table border=\"1\" class=\"dataframe\">\n",
       "  <thead>\n",
       "    <tr style=\"text-align: right;\">\n",
       "      <th></th>\n",
       "      <th>Total</th>\n",
       "      <th>Percent</th>\n",
       "    </tr>\n",
       "  </thead>\n",
       "  <tbody>\n",
       "    <tr>\n",
       "      <th>merchant_profile_picture</th>\n",
       "      <td>924</td>\n",
       "      <td>0.844607</td>\n",
       "    </tr>\n",
       "    <tr>\n",
       "      <th>has_urgency_banner</th>\n",
       "      <td>745</td>\n",
       "      <td>0.680987</td>\n",
       "    </tr>\n",
       "    <tr>\n",
       "      <th>urgency_text</th>\n",
       "      <td>745</td>\n",
       "      <td>0.680987</td>\n",
       "    </tr>\n",
       "    <tr>\n",
       "      <th>product_color</th>\n",
       "      <td>29</td>\n",
       "      <td>0.026508</td>\n",
       "    </tr>\n",
       "    <tr>\n",
       "      <th>origin_country</th>\n",
       "      <td>12</td>\n",
       "      <td>0.010969</td>\n",
       "    </tr>\n",
       "    <tr>\n",
       "      <th>product_variation_size_id</th>\n",
       "      <td>12</td>\n",
       "      <td>0.010969</td>\n",
       "    </tr>\n",
       "    <tr>\n",
       "      <th>merchant_name</th>\n",
       "      <td>4</td>\n",
       "      <td>0.003656</td>\n",
       "    </tr>\n",
       "  </tbody>\n",
       "</table>\n",
       "</div>"
      ],
      "text/plain": [
       "                           Total   Percent\n",
       "merchant_profile_picture     924  0.844607\n",
       "has_urgency_banner           745  0.680987\n",
       "urgency_text                 745  0.680987\n",
       "product_color                 29  0.026508\n",
       "origin_country                12  0.010969\n",
       "product_variation_size_id     12  0.010969\n",
       "merchant_name                  4  0.003656"
      ]
     },
     "execution_count": 9,
     "metadata": {},
     "output_type": "execute_result"
    }
   ],
   "source": [
    "#checking null values😱\n",
    "nullcount = train.isnull().sum().sort_values(ascending=False)\n",
    "percent = (train.isnull().sum()/train.isnull().count()).sort_values(ascending=False)\n",
    "misData = pd.concat([nullcount[nullcount > 0], percent[percent > 0]], axis=1, keys=['Total','Percent'])\n",
    "misData[misData['Percent'] > 0]"
   ]
  },
  {
   "attachments": {
    "images.jfif": {
     "image/jpeg": "[encoded data removed]"
    }
   },
   "cell_type": "markdown",
   "id": "a5ffa2da",
   "metadata": {},
   "source": [
    "![images.jfif](attachment:images.jfif)"
   ]
  },
  {
   "cell_type": "markdown",
   "id": "d81f8b31",
   "metadata": {},
   "source": [
    "### From our observation 🤓\n",
    "  we will find out that columns product_color, product_variation_size_id, has_urgency_banner, urgency_text, origin_country and merchant_profile_picture have many missing values that should be preprocessed\n",
    " \n",
    "We have two feature that contain a lot of unique value ( product_variation_size_id and product_color). The data is narrowed down in several \"Size\" and \"Color\" which have a large proportion in the dataset. "
   ]
  },
  {
   "cell_type": "code",
   "execution_count": 10,
   "id": "2f6aa9f0",
   "metadata": {},
   "outputs": [
    {
     "data": {
      "text/plain": [
       "array(['yellow', 'black', 'white', 'lakeblue', 'apricot', 'brown',\n",
       "       'winered', 'blue', 'red', 'navyblue', 'green', 'khaki', 'White',\n",
       "       'white & green', 'multicolor', 'lightpink', 'pink', 'RED',\n",
       "       'armygreen', 'lightblue', nan, 'coffee', 'grey', 'skyblue',\n",
       "       'watermelonred', 'pink & black', 'whitefloral', 'purple', 'navy',\n",
       "       'pink & white', 'rosered', 'orange', 'Black', 'mintgreen',\n",
       "       'leopardprint', 'gray', 'navy blue', 'star', 'rose', 'lightyellow',\n",
       "       'camouflage', 'black & yellow', 'whitestripe', 'navyblue & white',\n",
       "       'black & blue', 'lightred', 'violet', 'gold', 'black & green',\n",
       "       'white & black', 'burgundy', 'black & white', 'lightgrey',\n",
       "       'coolblack', 'lightgreen', 'beige', 'darkblue', 'darkgreen',\n",
       "       'silver', 'wine red', 'Army green', 'pink & blue', 'rainbow',\n",
       "       'claret', 'floral', 'brown & yellow', 'light green', 'Pink',\n",
       "       'blue & pink', 'dustypink', 'camel', 'orange-red', 'rosegold',\n",
       "       'ivory', 'fluorescentgreen', 'winered & yellow', 'offwhite',\n",
       "       'lightgray', 'wine', 'army', 'applegreen', 'nude', 'pink & grey',\n",
       "       'Rose red', 'denimblue', 'blackwhite', 'Blue', 'leopard'],\n",
       "      dtype=object)"
      ]
     },
     "execution_count": 10,
     "metadata": {},
     "output_type": "execute_result"
    }
   ],
   "source": [
    "#There are so many colours, let's see if we can combine different shades of a colour into one colour like :\n",
    "#example navy blue, blue and light blue into just blue 🌈\n",
    "train['product_color'].unique()"
   ]
  },
  {
   "cell_type": "code",
   "execution_count": 11,
   "id": "c5246235",
   "metadata": {},
   "outputs": [
    {
     "data": {
      "text/plain": [
       "array(['white & green', 'pink & black', 'pink & white', 'black & yellow',\n",
       "       'navyblue & white', 'black & blue', 'black & green',\n",
       "       'white & black', 'black & white', 'pink & blue', 'brown & yellow',\n",
       "       'blue & pink', 'winered & yellow', 'pink & grey'], dtype=object)"
      ]
     },
     "execution_count": 11,
     "metadata": {},
     "output_type": "execute_result"
    }
   ],
   "source": [
    "#There are so many colours, let's see if we can combine different shades of a colour into one colour like :\n",
    "#example navy blue, blue and light blue into just blue🌈\n",
    "train[train['product_color'].str.contains('&', na=False)]['product_color'].unique()"
   ]
  },
  {
   "cell_type": "code",
   "execution_count": 12,
   "id": "d63e65d7",
   "metadata": {},
   "outputs": [],
   "source": [
    "train['product_color'] = train['product_color'].str.lower()\n",
    "test['product_color'] = test['product_color'].str.lower()\n",
    "# remove trailing white spaces\n",
    "train['product_color'] = train['product_color'].str.strip()\n",
    "test['product_color'] = test['product_color'].str.strip()"
   ]
  },
  {
   "cell_type": "code",
   "execution_count": 13,
   "id": "40c06c08",
   "metadata": {},
   "outputs": [],
   "source": [
    "#preprocessing the product_color 🌈\n",
    "colour_synonym = {\n",
    "    'navyblue': 'blue', 'lightblue': 'blue', 'skyblue': 'blue', 'lakeblue': 'blue', 'darkblue': 'blue', 'denimblue': 'blue', 'navy blue': 'blue', 'prussianblue': 'blue',\n",
    "    'navy': 'blue',\n",
    "    'armygreen': 'green', 'army green': 'green', 'fluorescentgreen': 'green', 'mintgreen': 'green', 'light green': 'green', 'lightgreen': 'green',\n",
    "    'applegreen': 'green', 'darkgreen': 'green', 'army': 'green', 'khaki': 'green', 'lightkhaki': 'green',\n",
    "    'lightyellow': 'yellow', \n",
    "    'winered': 'red', 'wine red': 'red', 'lightred': 'red', 'coralred': 'red', 'rose red': 'red', 'watermelonred': 'red', 'orange-red': 'red', 'rosered': 'red',\n",
    "    'claret': 'red', 'burgundy': 'red', \n",
    "    'gray': 'grey', 'silver': 'grey','lightgray': 'grey', 'lightgrey': 'grey', 'greysnakeskinprint': 'grey',\n",
    "    'coffee': 'brown', 'camel': 'brown', 'tan': 'brown', \n",
    "    'offwhite': 'white', 'ivory': 'white', 'nude': 'white',\n",
    "    'lightpink': 'pink', 'dustypink':'pink', 'rosegold': 'pink',\n",
    "    'lightpurple': 'purple', 'coolblack': 'black', 'apricot': 'orange', 'offblack': 'black'\n",
    "}\n",
    "\n",
    "def update_color(col):\n",
    "    if colour_synonym.get(col, False):\n",
    "        return colour_synonym.get(col)\n",
    "    elif '&' in col:\n",
    "        return 'dual'\n",
    "    elif col in colour_synonym.values():\n",
    "        return col\n",
    "    else:\n",
    "        return 'other'\n",
    "\n",
    "train['product_color'].replace(np.nan, 'others', inplace=True)\n",
    "test['product_color'].replace(np.nan, 'others', inplace=True)\n",
    "\n",
    "train['product_color'] = train.product_color.apply(update_color)\n",
    "test['product_color'] = test.product_color.apply(update_color)"
   ]
  },
  {
   "cell_type": "code",
   "execution_count": 14,
   "id": "d12e60ee",
   "metadata": {},
   "outputs": [
    {
     "data": {
      "text/plain": [
       "black     224\n",
       "white     179\n",
       "blue      122\n",
       "green     106\n",
       "red        96\n",
       "pink       76\n",
       "yellow     70\n",
       "other      68\n",
       "grey       57\n",
       "purple     37\n",
       "dual       30\n",
       "orange     17\n",
       "brown      12\n",
       "Name: product_color, dtype: int64"
      ]
     },
     "execution_count": 14,
     "metadata": {},
     "output_type": "execute_result"
    }
   ],
   "source": [
    "#problem solved ✌️\n",
    "train['product_color'].value_counts()"
   ]
  },
  {
   "cell_type": "code",
   "execution_count": 15,
   "id": "f3dc21a9",
   "metadata": {},
   "outputs": [
    {
     "data": {
      "text/html": [
       "<div>\n",
       "<style scoped>\n",
       "    .dataframe tbody tr th:only-of-type {\n",
       "        vertical-align: middle;\n",
       "    }\n",
       "\n",
       "    .dataframe tbody tr th {\n",
       "        vertical-align: top;\n",
       "    }\n",
       "\n",
       "    .dataframe thead th {\n",
       "        text-align: right;\n",
       "    }\n",
       "</style>\n",
       "<table border=\"1\" class=\"dataframe\">\n",
       "  <thead>\n",
       "    <tr style=\"text-align: right;\">\n",
       "      <th></th>\n",
       "      <th>product_color</th>\n",
       "      <th>units_sold</th>\n",
       "    </tr>\n",
       "  </thead>\n",
       "  <tbody>\n",
       "    <tr>\n",
       "      <th>0</th>\n",
       "      <td>black</td>\n",
       "      <td>1335500</td>\n",
       "    </tr>\n",
       "    <tr>\n",
       "      <th>1</th>\n",
       "      <td>blue</td>\n",
       "      <td>458358</td>\n",
       "    </tr>\n",
       "    <tr>\n",
       "      <th>2</th>\n",
       "      <td>brown</td>\n",
       "      <td>11750</td>\n",
       "    </tr>\n",
       "    <tr>\n",
       "      <th>3</th>\n",
       "      <td>dual</td>\n",
       "      <td>101450</td>\n",
       "    </tr>\n",
       "    <tr>\n",
       "      <th>4</th>\n",
       "      <td>green</td>\n",
       "      <td>426422</td>\n",
       "    </tr>\n",
       "    <tr>\n",
       "      <th>5</th>\n",
       "      <td>grey</td>\n",
       "      <td>388720</td>\n",
       "    </tr>\n",
       "    <tr>\n",
       "      <th>6</th>\n",
       "      <td>orange</td>\n",
       "      <td>120608</td>\n",
       "    </tr>\n",
       "    <tr>\n",
       "      <th>7</th>\n",
       "      <td>other</td>\n",
       "      <td>397922</td>\n",
       "    </tr>\n",
       "    <tr>\n",
       "      <th>8</th>\n",
       "      <td>pink</td>\n",
       "      <td>206600</td>\n",
       "    </tr>\n",
       "    <tr>\n",
       "      <th>9</th>\n",
       "      <td>purple</td>\n",
       "      <td>235920</td>\n",
       "    </tr>\n",
       "    <tr>\n",
       "      <th>10</th>\n",
       "      <td>red</td>\n",
       "      <td>356550</td>\n",
       "    </tr>\n",
       "    <tr>\n",
       "      <th>11</th>\n",
       "      <td>white</td>\n",
       "      <td>771354</td>\n",
       "    </tr>\n",
       "    <tr>\n",
       "      <th>12</th>\n",
       "      <td>yellow</td>\n",
       "      <td>132262</td>\n",
       "    </tr>\n",
       "  </tbody>\n",
       "</table>\n",
       "</div>"
      ],
      "text/plain": [
       "   product_color  units_sold\n",
       "0          black     1335500\n",
       "1           blue      458358\n",
       "2          brown       11750\n",
       "3           dual      101450\n",
       "4          green      426422\n",
       "5           grey      388720\n",
       "6         orange      120608\n",
       "7          other      397922\n",
       "8           pink      206600\n",
       "9         purple      235920\n",
       "10           red      356550\n",
       "11         white      771354\n",
       "12        yellow      132262"
      ]
     },
     "execution_count": 15,
     "metadata": {},
     "output_type": "execute_result"
    }
   ],
   "source": [
    "col_df = train.groupby('product_color').agg('sum')['units_sold'].to_frame()\n",
    "col_df.reset_index(level=0, inplace=True)\n",
    "col_df"
   ]
  },
  {
   "cell_type": "code",
   "execution_count": 16,
   "id": "5c213b58",
   "metadata": {},
   "outputs": [
    {
     "data": {
      "image/png": "[encoded data removed]",
      "text/plain": [
       "<Figure size 1500x1000 with 1 Axes>"
      ]
     },
     "metadata": {},
     "output_type": "display_data"
    }
   ],
   "source": [
    "#Plotting and obsereve that After applying the necesssary transformation of the colour column \n",
    "#we can see that black has sold most units followed by white.🌈\n",
    "other_col = ['Pink', 'Pair Color', 'Armygreen', 'Winered', 'Navyblue', 'Other']\n",
    "size_other_col = [99, 38, 30, 27, 27, 181]\n",
    "\n",
    "prod_col = train.groupby(['units_sold', 'product_color']).count().loc[:, 'retail_price'].reset_index()\n",
    "prod_col['color_sold'] = prod_col['units_sold'] * prod_col['retail_price']\n",
    "data_col = prod_col.groupby('product_color')['color_sold'].sum().sort_values(ascending = False).reset_index()\n",
    "data_col['percent'] = round(data_col['color_sold'] / data_col['color_sold'].sum(), 2)\n",
    "\n",
    "fig, ax = plt.subplots(1, 1, figsize = (15, 10))\n",
    "\n",
    "label = ['Other', 'Black', 'White', 'Gray', 'Green', 'Red', 'Blue', 'Purple', 'Yellow']\n",
    "size_color = [0.26, 0.24, 0.17, 0.07, 0.06, 0.06, 0.05, 0.05, 0.04]\n",
    "explode = [0.15, 0, 0, 0, 0, 0, 0, 0, 0]\n",
    "ax.pie(size_color, labels = label, explode = explode, autopct = '%1.1f%%', \n",
    "             counterclock = True, shadow = True, radius = 1.1, \n",
    "             colors = [ 'brown', 'black', 'white', 'gray', 'green', 'red', 'blue', 'purple', 'yellow', 'white'])\n",
    "\n",
    "ax.text(2, 1, 'MOST OTHER COLOR LIST:', fontsize = 10, fontweight = 'bold', fontfamily = 'serif', \n",
    "                color = 'black', bbox=dict(boxstyle=\"round\", fc=\"white\", color = '#66ccff'))\n",
    "\n",
    "ax.text(-0.1, 1.5, 'What product colors are customers looking for?', fontsize = 18, fontweight = 'bold', fontfamily = 'serif', \n",
    "        color = '#323232', bbox = {'facecolor': 'white', 'alpha': 0.5, 'pad': 10})\n",
    "\n",
    "y_pos = [0.8, 0.6, 0.4, 0.2, 0, -0.2]\n",
    "for i, y in zip(other_col, y_pos):\n",
    "    ax.text(2, y, f'- {i}', fontsize = 10, fontweight = 'bold', fontfamily = 'serif', \n",
    "                color = 'black', bbox = dict(boxstyle = \"round\", color = 'white'))\n",
    "    \n",
    "plt.show()"
   ]
  },
  {
   "cell_type": "code",
   "execution_count": 17,
   "id": "76ac5e34",
   "metadata": {},
   "outputs": [
    {
     "name": "stdout",
     "output_type": "stream",
     "text": [
      "Requirement already satisfied: joypy in c:\\users\\debi\\downloads\\anaconda\\lib\\site-packages (0.2.6)\n",
      "Requirement already satisfied: scipy>=0.11.0 in c:\\users\\debi\\downloads\\anaconda\\lib\\site-packages (from joypy) (1.9.1)\n",
      "Requirement already satisfied: pandas>=0.20.0 in c:\\users\\debi\\downloads\\anaconda\\lib\\site-packages (from joypy) (1.4.4)\n",
      "Requirement already satisfied: numpy>=1.16.5 in c:\\users\\debi\\downloads\\anaconda\\lib\\site-packages (from joypy) (1.21.5)\n",
      "Requirement already satisfied: matplotlib in c:\\users\\debi\\downloads\\anaconda\\lib\\site-packages (from joypy) (3.5.2)\n",
      "Requirement already satisfied: python-dateutil>=2.8.1 in c:\\users\\debi\\downloads\\anaconda\\lib\\site-packages (from pandas>=0.20.0->joypy) (2.8.2)\n",
      "Requirement already satisfied: pytz>=2020.1 in c:\\users\\debi\\downloads\\anaconda\\lib\\site-packages (from pandas>=0.20.0->joypy) (2022.1)\n",
      "Requirement already satisfied: kiwisolver>=1.0.1 in c:\\users\\debi\\downloads\\anaconda\\lib\\site-packages (from matplotlib->joypy) (1.4.2)\n",
      "Requirement already satisfied: cycler>=0.10 in c:\\users\\debi\\downloads\\anaconda\\lib\\site-packages (from matplotlib->joypy) (0.11.0)\n",
      "Requirement already satisfied: pyparsing>=2.2.1 in c:\\users\\debi\\downloads\\anaconda\\lib\\site-packages (from matplotlib->joypy) (3.0.9)\n",
      "Requirement already satisfied: fonttools>=4.22.0 in c:\\users\\debi\\downloads\\anaconda\\lib\\site-packages (from matplotlib->joypy) (4.25.0)\n",
      "Requirement already satisfied: packaging>=20.0 in c:\\users\\debi\\downloads\\anaconda\\lib\\site-packages (from matplotlib->joypy) (21.3)\n",
      "Requirement already satisfied: pillow>=6.2.0 in c:\\users\\debi\\downloads\\anaconda\\lib\\site-packages (from matplotlib->joypy) (9.2.0)\n",
      "Requirement already satisfied: six>=1.5 in c:\\users\\debi\\downloads\\anaconda\\lib\\site-packages (from python-dateutil>=2.8.1->pandas>=0.20.0->joypy) (1.16.0)\n"
     ]
    }
   ],
   "source": [
    "!pip install joypy"
   ]
  },
  {
   "cell_type": "code",
   "execution_count": 18,
   "id": "bd2bd30b",
   "metadata": {},
   "outputs": [
    {
     "data": {
      "text/plain": [
       "0       16\n",
       "1       22\n",
       "2       23\n",
       "3       16\n",
       "4       20\n",
       "        ..\n",
       "1089    13\n",
       "1090    18\n",
       "1091    16\n",
       "1092    20\n",
       "1093    14\n",
       "Name: tags_count, Length: 1094, dtype: int64"
      ]
     },
     "execution_count": 18,
     "metadata": {},
     "output_type": "execute_result"
    }
   ],
   "source": [
    "train['tags_count'] = [len(str(x).split(\",\")) for x in train['tags']]\n",
    "test['tags_count'] = [len(str(x).split(\",\")) for x in test['tags']]\n",
    "train['tags_count']"
   ]
  },
  {
   "cell_type": "code",
   "execution_count": 19,
   "id": "c0b8ca4f",
   "metadata": {},
   "outputs": [
    {
     "data": {
      "text/plain": [
       "<Figure size 640x480 with 0 Axes>"
      ]
     },
     "metadata": {},
     "output_type": "display_data"
    },
    {
     "data": {
      "image/png": "[encoded data removed]",
      "text/plain": [
       "<Figure size 1200x800 with 14 Axes>"
      ]
     },
     "metadata": {},
     "output_type": "display_data"
    }
   ],
   "source": [
    "#Total tags by product display that merchant used do not appear to have a significant effect on units sold.👀\n",
    "#This shows that most customers find their products through product title searches instead of searching through tags.👀\n",
    "from joypy import joyplot\n",
    "from matplotlib import pyplot as plt\n",
    "\n",
    "plt.figure()\n",
    "\n",
    "joyplot(\n",
    "    data=train[['units_sold', 'tags_count']], \n",
    "    by='units_sold',\n",
    "    color = '#66ccff',\n",
    "    figsize=(12, 8)\n",
    ")\n",
    "plt.title('Do Total Tags Used by Merchat Affect Units Sold?', fontsize=20)\n",
    "plt.show()"
   ]
  },
  {
   "cell_type": "code",
   "execution_count": 20,
   "id": "7ed07d5e",
   "metadata": {},
   "outputs": [
    {
     "data": {
      "text/plain": [
       "CN    1054\n",
       "US      22\n",
       "VE       3\n",
       "SG       2\n",
       "GB       1\n",
       "Name: origin_country, dtype: int64"
      ]
     },
     "execution_count": 20,
     "metadata": {},
     "output_type": "execute_result"
    }
   ],
   "source": [
    "# preprocessing origin_country\n",
    "country_cnt = train['origin_country'].value_counts()\n",
    "country_cnt"
   ]
  },
  {
   "cell_type": "code",
   "execution_count": 21,
   "id": "0f68e7a5",
   "metadata": {},
   "outputs": [],
   "source": [
    "# We will replace this with CN as its the most frequent value.👌\n",
    "train['origin_country'].fillna('CN', inplace=True)\n",
    "test['origin_country'].fillna('CN', inplace=True)"
   ]
  },
  {
   "cell_type": "code",
   "execution_count": 22,
   "id": "d398ac02",
   "metadata": {},
   "outputs": [
    {
     "data": {
      "text/plain": [
       "0       NaN\n",
       "1       NaN\n",
       "2       NaN\n",
       "3       NaN\n",
       "4       1.0\n",
       "       ... \n",
       "1089    NaN\n",
       "1090    NaN\n",
       "1091    NaN\n",
       "1092    1.0\n",
       "1093    1.0\n",
       "Name: has_urgency_banner, Length: 1094, dtype: float64"
      ]
     },
     "execution_count": 22,
     "metadata": {},
     "output_type": "execute_result"
    }
   ],
   "source": [
    "Urgency = train.loc[:,'has_urgency_banner']\n",
    "Urgency"
   ]
  },
  {
   "cell_type": "code",
   "execution_count": 23,
   "id": "d46c73d1",
   "metadata": {},
   "outputs": [],
   "source": [
    "#Filling the Nan values with zero which express that there was no urgency or troubles with this transaction👌\n",
    "train.loc[:, 'has_urgency_banner']=Urgency.fillna(0)\n",
    "test.loc[:, 'has_urgency_banner']=Urgency.fillna(0)"
   ]
  },
  {
   "cell_type": "code",
   "execution_count": 24,
   "id": "e81f8ec6",
   "metadata": {},
   "outputs": [
    {
     "data": {
      "text/plain": [
       "Quantité limitée !                  348\n",
       "Réduction sur les achats en gros      1\n",
       "Name: urgency_text, dtype: int64"
      ]
     },
     "execution_count": 24,
     "metadata": {},
     "output_type": "execute_result"
    }
   ],
   "source": [
    "#Checking urgent text \n",
    "train['urgency_text'].value_counts()"
   ]
  },
  {
   "cell_type": "code",
   "execution_count": 25,
   "id": "a84d1cb6",
   "metadata": {},
   "outputs": [
    {
     "data": {
      "text/plain": [
       "None                          745\n",
       "Limited Quantity              348\n",
       "Discount on bulk purchases      1\n",
       "Name: urgency_text, dtype: int64"
      ]
     },
     "execution_count": 25,
     "metadata": {},
     "output_type": "execute_result"
    }
   ],
   "source": [
    "# replace multiple values in a column in pandas dataframe\n",
    "train['urgency_text'] = train['urgency_text'].replace({\n",
    "    'Quantité limitée !' : 'Limited Quantity', \n",
    "    'Réduction sur les achats en gros': 'Discount on bulk purchases', \n",
    "    np.nan: 'None'\n",
    "})\n",
    "\n",
    "train['urgency_text'].value_counts()"
   ]
  },
  {
   "cell_type": "code",
   "execution_count": 26,
   "id": "b709fde4",
   "metadata": {},
   "outputs": [
    {
     "data": {
      "text/plain": [
       "None                355\n",
       "Limited Quantity    124\n",
       "Name: urgency_text, dtype: int64"
      ]
     },
     "execution_count": 26,
     "metadata": {},
     "output_type": "execute_result"
    }
   ],
   "source": [
    "# replace multiple values in a column in pandas dataframe\n",
    "\n",
    "test['urgency_text'] = test['urgency_text'].replace({\n",
    "    'Quantité limitée !' : 'Limited Quantity', \n",
    "    'Réduction sur les achats en gros': 'Discount on bulk purchases', \n",
    "    np.nan: 'None'\n",
    "})\n",
    "\n",
    "test['urgency_text'].value_counts()"
   ]
  },
  {
   "cell_type": "code",
   "execution_count": 27,
   "id": "25c47c81",
   "metadata": {},
   "outputs": [],
   "source": [
    "# Analysis the units_sold feature \n",
    "train['units_sold'].value_counts()\n",
    "# As the units sold less than 10 has a low count we can change them to 10 to minimize the number of categories\n",
    "# and as they have a very smal count they won't affect the count of the category 10 and even they won't\n",
    "# affect the order of data \n",
    "\n",
    "train.loc[train['units_sold'] < 10, 'units_sold'] = 10"
   ]
  },
  {
   "cell_type": "code",
   "execution_count": 28,
   "id": "f7e673ad",
   "metadata": {},
   "outputs": [],
   "source": [
    "# Analysis the units_sold feature \n",
    "test['units_sold'].value_counts()\n",
    "# As the units sold less than 10 has a low count we can change them to 10 to minimize the number of categories\n",
    "# and as they have a very smal count they won't affect the count of the category 10 and even they won't\n",
    "# affect the order of data \n",
    "\n",
    "test.loc[train['units_sold'] < 10, 'units_sold'] = 10"
   ]
  },
  {
   "cell_type": "code",
   "execution_count": 29,
   "id": "1951246e",
   "metadata": {},
   "outputs": [
    {
     "data": {
      "image/png": "[encoded data removed]",
      "text/plain": [
       "<Figure size 1000x600 with 1 Axes>"
      ]
     },
     "metadata": {},
     "output_type": "display_data"
    }
   ],
   "source": [
    "# plot a figure for units_sold data counting after cleaning it\n",
    "\n",
    "plt.figure(figsize=(10, 6))\n",
    "ax = sns.countplot(x = 'units_sold',\n",
    "                   palette= \"Set2\",\n",
    "                   order = train['units_sold'].value_counts().index,\n",
    "                   data=train)\n",
    "\n",
    "plt.show()"
   ]
  },
  {
   "cell_type": "code",
   "execution_count": 30,
   "id": "26a25488",
   "metadata": {},
   "outputs": [],
   "source": [
    "# Analysis the merchant_name feature \n",
    "train['merchant_name'] = train['merchant_name'].replace(np.nan, 'Unknown')"
   ]
  },
  {
   "cell_type": "code",
   "execution_count": 31,
   "id": "d6e33084",
   "metadata": {},
   "outputs": [],
   "source": [
    "test['merchant_name'] = test['merchant_name'].replace(np.nan, 'Unknown')"
   ]
  },
  {
   "cell_type": "code",
   "execution_count": 32,
   "id": "30fe64dd",
   "metadata": {},
   "outputs": [
    {
     "data": {
      "text/plain": [
       "S           444\n",
       "XS          248\n",
       "M           135\n",
       "XXS          76\n",
       "L            29\n",
       "           ... \n",
       "pants-S       1\n",
       "XXXXL         1\n",
       "SIZE-XXS      1\n",
       "1pc           1\n",
       "H01           1\n",
       "Name: product_variation_size_id, Length: 83, dtype: int64"
      ]
     },
     "execution_count": 32,
     "metadata": {},
     "output_type": "execute_result"
    }
   ],
   "source": [
    "# count the product_variation_size_id\n",
    "train[\"product_variation_size_id\"].value_counts()\n"
   ]
  },
  {
   "cell_type": "code",
   "execution_count": 33,
   "id": "3cf75fad",
   "metadata": {},
   "outputs": [
    {
     "data": {
      "text/html": [
       "<div>\n",
       "<style scoped>\n",
       "    .dataframe tbody tr th:only-of-type {\n",
       "        vertical-align: middle;\n",
       "    }\n",
       "\n",
       "    .dataframe tbody tr th {\n",
       "        vertical-align: top;\n",
       "    }\n",
       "\n",
       "    .dataframe thead th {\n",
       "        text-align: right;\n",
       "    }\n",
       "</style>\n",
       "<table border=\"1\" class=\"dataframe\">\n",
       "  <thead>\n",
       "    <tr style=\"text-align: right;\">\n",
       "      <th></th>\n",
       "      <th>product_variation_size_id</th>\n",
       "    </tr>\n",
       "  </thead>\n",
       "  <tbody>\n",
       "    <tr>\n",
       "      <th>S</th>\n",
       "      <td>460</td>\n",
       "    </tr>\n",
       "    <tr>\n",
       "      <th>XS</th>\n",
       "      <td>254</td>\n",
       "    </tr>\n",
       "    <tr>\n",
       "      <th>M</th>\n",
       "      <td>139</td>\n",
       "    </tr>\n",
       "    <tr>\n",
       "      <th>OTHER</th>\n",
       "      <td>91</td>\n",
       "    </tr>\n",
       "    <tr>\n",
       "      <th>XXS</th>\n",
       "      <td>83</td>\n",
       "    </tr>\n",
       "    <tr>\n",
       "      <th>L</th>\n",
       "      <td>29</td>\n",
       "    </tr>\n",
       "    <tr>\n",
       "      <th>XXL</th>\n",
       "      <td>25</td>\n",
       "    </tr>\n",
       "    <tr>\n",
       "      <th>XL</th>\n",
       "      <td>13</td>\n",
       "    </tr>\n",
       "  </tbody>\n",
       "</table>\n",
       "</div>"
      ],
      "text/plain": [
       "       product_variation_size_id\n",
       "S                            460\n",
       "XS                           254\n",
       "M                            139\n",
       "OTHER                         91\n",
       "XXS                           83\n",
       "L                             29\n",
       "XXL                           25\n",
       "XL                            13"
      ]
     },
     "execution_count": 33,
     "metadata": {},
     "output_type": "execute_result"
    }
   ],
   "source": [
    "# Analysis the product_variation_size_id 🙌\n",
    "size_list = list(train['product_variation_size_id'])\n",
    "\n",
    "xxs_err = []\n",
    "xs_err = []\n",
    "s_err = []\n",
    "m_err = []\n",
    "l_err = []\n",
    "xl_err = []\n",
    "xxl_err = []\n",
    "\n",
    "for i in size_list:\n",
    "    if (i == 'XXS') or (i == 'XXXS') or (i == 'SIZE XXS') or (i == 'SIZE-XXS') or (i == 'SIZE -XXS'):\n",
    "        xxs_err.append(i)\n",
    "    elif (i == 'XS') or (i == 'XS.') or (i == 'SIZE XS') or (i == 'SIZE-XS'):\n",
    "        xs_err.append(i)\n",
    "    elif (i == 'S') or (i == 'S.') or (i == 'SUIT-S') or (i == 'SIZE S.') or (i == 'SIZE S') or (i == 'S..') \\\n",
    "    or (i == 'S(BUST 88CM)') or (i == 'S (WAIST58-62CM)') or (i == 'SIZE-S') or (i == 'S DIAMETER 30CM') or (i == '25-S') \\\n",
    "    or (i == 'SIZE/S') or (i == 'PANTS-S') or (i == 'SIZE--S'):\n",
    "        s_err.append(i)\n",
    "    elif (i == 'M') or (i == 'M.') or (i == 'SIZE M'):\n",
    "        m_err.append(i)\n",
    "    elif (i == 'L') or (i == '32/L') or (i == 'L.') or (i == 'SIZEL'):\n",
    "        l_err.append(i)\n",
    "    elif (i == 'XL') or (i == 'X   L'):\n",
    "        xl_err.append(i)\n",
    "    elif (i == 'XXL') or (i == 'XXXXXL') or (i == '3XL') or (i == 'SIZE-4XL') or (i == 'XXXL') or (i == '5XL') \\\n",
    "    or (i == '2XL') or (i == '4XL') or (i == 'XXXXL') or (i == '6XL') or (i == 'SIZE-5XL') or (i == 'SIZE4XL') \\\n",
    "    or (i == '04-3XL') or (i == '1 PC - XL'):\n",
    "        xxl_err.append(i)\n",
    "        \n",
    "def size(tipe):\n",
    "    if tipe in xxs_err:\n",
    "        return 'XXS'\n",
    "    elif tipe in xs_err:\n",
    "        return 'XS'\n",
    "    elif tipe in s_err:\n",
    "        return 'S'\n",
    "    elif tipe in m_err:\n",
    "        return 'M'\n",
    "    elif tipe in l_err:\n",
    "        return 'L'\n",
    "    elif tipe in xl_err:\n",
    "        return 'XL'\n",
    "    elif tipe in xxl_err:\n",
    "        return 'XXL'\n",
    "    else:\n",
    "        return 'OTHER'\n",
    "train['product_variation_size_id'] = train['product_variation_size_id'].apply(size)  \n",
    "test['product_variation_size_id'] = test['product_variation_size_id'].apply(size)  \n",
    "pd.DataFrame(train['product_variation_size_id'].value_counts())"
   ]
  },
  {
   "cell_type": "code",
   "execution_count": 34,
   "id": "988f7906",
   "metadata": {},
   "outputs": [
    {
     "name": "stdout",
     "output_type": "stream",
     "text": [
      "Requirement already satisfied: squarify in c:\\users\\debi\\downloads\\anaconda\\lib\\site-packages (0.4.3)\n"
     ]
    },
    {
     "data": {
      "image/png": "[encoded data removed]",
      "text/plain": [
       "<Figure size 1500x1000 with 1 Axes>"
      ]
     },
     "metadata": {},
     "output_type": "display_data"
    }
   ],
   "source": [
    "#visualize the product_variation_size_id 👀 \n",
    "!pip install squarify\n",
    "import squarify\n",
    "import seaborn as sb\n",
    "size_map = train.groupby(['units_sold', 'product_variation_size_id']).count().loc[:, 'retail_price'].reset_index()\n",
    "size_map['size_sold'] = size_map['units_sold'] * size_map['retail_price']\n",
    "data_size = size_map.groupby('product_variation_size_id')['size_sold'].sum().sort_values(ascending = False).reset_index()\n",
    "\n",
    "fig, ax = plt.subplots(1, 1, figsize = (15, 10))\n",
    "\n",
    "perc = [str('{:5.2f}'.format(i / data_size['size_sold'].sum() * 100)) + \"%\" for i in data_size['size_sold']]\n",
    "lbl = [el[0] + \" = \" + el[1] for el in zip(data_size['product_variation_size_id'], perc)]\n",
    "\n",
    "squarify.plot(sizes = data_size['size_sold'],color=sb.color_palette(\"Spectral\"), label = lbl, alpha = 0.8, ax = ax)\n",
    "\n",
    "ax.text(0, 105, 'What product sizes are customers looking for?', fontsize = 18, fontweight = 'bold', fontfamily = 'serif', \n",
    "        color = '#323232', bbox = {'facecolor': 'white', 'alpha': 0.5, 'pad': 10})\n",
    "plt.axis('off')\n",
    "plt.show()\n"
   ]
  },
  {
   "cell_type": "code",
   "execution_count": 35,
   "id": "08ccb8bc",
   "metadata": {},
   "outputs": [
    {
     "data": {
      "text/plain": [
       "86 % avis positifs (12,309 notes)    8\n",
       "83 % avis positifs (32,168 notes)    7\n",
       "85 % avis positifs (80,093 notes)    5\n",
       "84 % avis positifs (1,047 notes)     5\n",
       "85 % avis positifs (5,264 notes)     5\n",
       "                                    ..\n",
       "90 % avis positifs (2,359 notes)     1\n",
       "90 % avis positifs (26,833 notes)    1\n",
       "86 % avis positifs (4,335 notes)     1\n",
       "79 % avis positifs (667 notes)       1\n",
       "78 % avis positifs (6,632 notes)     1\n",
       "Name: merchant_info_subtitle, Length: 808, dtype: int64"
      ]
     },
     "execution_count": 35,
     "metadata": {},
     "output_type": "execute_result"
    }
   ],
   "source": [
    "train['merchant_info_subtitle'].value_counts()"
   ]
  },
  {
   "cell_type": "code",
   "execution_count": 36,
   "id": "3c20f0b3",
   "metadata": {},
   "outputs": [
    {
     "data": {
      "text/plain": [
       "Suyi Technology                             8\n",
       "guangzhouweishiweifushiyouxiangongsi        7\n",
       "shuilingjiao international trade company    6\n",
       "sjhdstoer                                   6\n",
       "Sangboo Store                               6\n",
       "                                           ..\n",
       "Wwenliping                                  1\n",
       "yourvogue                                   1\n",
       "caohongbo                                   1\n",
       "bumanke003                                  1\n",
       "OIUG 56465                                  1\n",
       "Name: merchant_title, Length: 747, dtype: int64"
      ]
     },
     "execution_count": 36,
     "metadata": {},
     "output_type": "execute_result"
    }
   ],
   "source": [
    "train['merchant_title'].value_counts()"
   ]
  },
  {
   "cell_type": "code",
   "execution_count": 37,
   "id": "bd42ab4c",
   "metadata": {},
   "outputs": [],
   "source": [
    "#dropping the unnecessary features 👎\n",
    "train.drop('tags',axis='columns', inplace=True)\n",
    "train.drop('shipping_option_name',axis='columns', inplace=True)\n",
    "train.drop('merchant_title',axis='columns', inplace=True)\n",
    "train.drop('merchant_name',axis='columns', inplace=True)\n",
    "train.drop('merchant_info_subtitle',axis='columns', inplace=True)\n",
    "train.drop('merchant_profile_picture',axis='columns', inplace=True)\n",
    "train.drop('urgency_text',axis='columns', inplace=True)\n",
    "train.drop('currency_buyer',axis='columns', inplace=True)\n",
    "train.drop('merchant_id',axis='columns',inplace=True)\n",
    "train.drop('crawl_month',axis='columns', inplace=True)\n",
    "train.drop('theme',axis='columns', inplace=True)\n",
    "train.drop('id',axis='columns', inplace=True)\n"
   ]
  },
  {
   "cell_type": "code",
   "execution_count": 38,
   "id": "aae79868",
   "metadata": {},
   "outputs": [
    {
     "data": {
      "text/plain": [
       "price                           0\n",
       "retail_price                    0\n",
       "units_sold                      0\n",
       "uses_ad_boosts                  0\n",
       "rating                          0\n",
       "rating_count                    0\n",
       "badges_count                    0\n",
       "badge_local_product             0\n",
       "badge_product_quality           0\n",
       "badge_fast_shipping             0\n",
       "product_color                   0\n",
       "product_variation_size_id       0\n",
       "product_variation_inventory     0\n",
       "shipping_option_price           0\n",
       "shipping_is_express             0\n",
       "countries_shipped_to            0\n",
       "inventory_total                 0\n",
       "has_urgency_banner              0\n",
       "origin_country                  0\n",
       "merchant_rating_count           0\n",
       "merchant_rating                 0\n",
       "merchant_has_profile_picture    0\n",
       "tags_count                      0\n",
       "dtype: int64"
      ]
     },
     "execution_count": 38,
     "metadata": {},
     "output_type": "execute_result"
    }
   ],
   "source": [
    "#Making sure there is no more missing values👀 \n",
    "missing_values_count = train.isnull().sum()\n",
    "\n",
    "# look at the # of missing points in all columns\n",
    "missing_values_count[:]"
   ]
  },
  {
   "cell_type": "code",
   "execution_count": 39,
   "id": "9024c219",
   "metadata": {},
   "outputs": [],
   "source": [
    "ids = test['id']"
   ]
  },
  {
   "cell_type": "code",
   "execution_count": 40,
   "id": "67443639",
   "metadata": {},
   "outputs": [],
   "source": [
    "#dropping the unnecessary features 👎\n",
    "test.drop('tags',axis='columns', inplace=True)\n",
    "test.drop('shipping_option_name',axis='columns', inplace=True)\n",
    "test.drop('merchant_title',axis='columns', inplace=True)\n",
    "test.drop('merchant_name',axis='columns', inplace=True)\n",
    "test.drop('merchant_info_subtitle',axis='columns', inplace=True)\n",
    "test.drop('merchant_profile_picture',axis='columns', inplace=True)\n",
    "test.drop('urgency_text',axis='columns', inplace=True)\n",
    "test.drop('currency_buyer',axis='columns', inplace=True)\n",
    "test.drop('merchant_id',axis='columns',inplace=True)\n",
    "test.drop('crawl_month',axis='columns', inplace=True)\n",
    "test.drop('theme',axis='columns', inplace=True)\n",
    "test.drop('id',axis='columns', inplace=True)"
   ]
  },
  {
   "cell_type": "code",
   "execution_count": 41,
   "id": "a24ab467",
   "metadata": {},
   "outputs": [
    {
     "data": {
      "text/plain": [
       "price                           0\n",
       "retail_price                    0\n",
       "units_sold                      0\n",
       "uses_ad_boosts                  0\n",
       "rating_count                    0\n",
       "badges_count                    0\n",
       "badge_local_product             0\n",
       "badge_product_quality           0\n",
       "badge_fast_shipping             0\n",
       "product_color                   0\n",
       "product_variation_size_id       0\n",
       "product_variation_inventory     0\n",
       "shipping_option_price           0\n",
       "shipping_is_express             0\n",
       "countries_shipped_to            0\n",
       "inventory_total                 0\n",
       "has_urgency_banner              0\n",
       "origin_country                  0\n",
       "merchant_rating_count           0\n",
       "merchant_rating                 0\n",
       "merchant_has_profile_picture    0\n",
       "tags_count                      0\n",
       "dtype: int64"
      ]
     },
     "execution_count": 41,
     "metadata": {},
     "output_type": "execute_result"
    }
   ],
   "source": [
    "#Making sure there is no more missing values\n",
    "missing_values_count = test.isnull().sum()\n",
    "\n",
    "# look at the # of missing points in all columns\n",
    "missing_values_count[:]\n",
    "     "
   ]
  },
  {
   "cell_type": "code",
   "execution_count": 42,
   "id": "f830db22",
   "metadata": {},
   "outputs": [
    {
     "data": {
      "text/html": [
       "<div>\n",
       "<style scoped>\n",
       "    .dataframe tbody tr th:only-of-type {\n",
       "        vertical-align: middle;\n",
       "    }\n",
       "\n",
       "    .dataframe tbody tr th {\n",
       "        vertical-align: top;\n",
       "    }\n",
       "\n",
       "    .dataframe thead th {\n",
       "        text-align: right;\n",
       "    }\n",
       "</style>\n",
       "<table border=\"1\" class=\"dataframe\">\n",
       "  <thead>\n",
       "    <tr style=\"text-align: right;\">\n",
       "      <th></th>\n",
       "      <th>price</th>\n",
       "      <th>retail_price</th>\n",
       "      <th>units_sold</th>\n",
       "      <th>uses_ad_boosts</th>\n",
       "      <th>rating_count</th>\n",
       "      <th>badges_count</th>\n",
       "      <th>badge_local_product</th>\n",
       "      <th>badge_product_quality</th>\n",
       "      <th>badge_fast_shipping</th>\n",
       "      <th>product_color</th>\n",
       "      <th>...</th>\n",
       "      <th>shipping_option_price</th>\n",
       "      <th>shipping_is_express</th>\n",
       "      <th>countries_shipped_to</th>\n",
       "      <th>inventory_total</th>\n",
       "      <th>has_urgency_banner</th>\n",
       "      <th>origin_country</th>\n",
       "      <th>merchant_rating_count</th>\n",
       "      <th>merchant_rating</th>\n",
       "      <th>merchant_has_profile_picture</th>\n",
       "      <th>tags_count</th>\n",
       "    </tr>\n",
       "  </thead>\n",
       "  <tbody>\n",
       "    <tr>\n",
       "      <th>0</th>\n",
       "      <td>5.75</td>\n",
       "      <td>5</td>\n",
       "      <td>10</td>\n",
       "      <td>1</td>\n",
       "      <td>0</td>\n",
       "      <td>0</td>\n",
       "      <td>0</td>\n",
       "      <td>0</td>\n",
       "      <td>0</td>\n",
       "      <td>white</td>\n",
       "      <td>...</td>\n",
       "      <td>2</td>\n",
       "      <td>0</td>\n",
       "      <td>139</td>\n",
       "      <td>50</td>\n",
       "      <td>0.0</td>\n",
       "      <td>CN</td>\n",
       "      <td>3</td>\n",
       "      <td>2.333333</td>\n",
       "      <td>0</td>\n",
       "      <td>19</td>\n",
       "    </tr>\n",
       "    <tr>\n",
       "      <th>1</th>\n",
       "      <td>7.00</td>\n",
       "      <td>7</td>\n",
       "      <td>5000</td>\n",
       "      <td>0</td>\n",
       "      <td>579</td>\n",
       "      <td>0</td>\n",
       "      <td>0</td>\n",
       "      <td>0</td>\n",
       "      <td>0</td>\n",
       "      <td>black</td>\n",
       "      <td>...</td>\n",
       "      <td>2</td>\n",
       "      <td>0</td>\n",
       "      <td>31</td>\n",
       "      <td>50</td>\n",
       "      <td>0.0</td>\n",
       "      <td>CN</td>\n",
       "      <td>4213</td>\n",
       "      <td>4.058391</td>\n",
       "      <td>0</td>\n",
       "      <td>22</td>\n",
       "    </tr>\n",
       "    <tr>\n",
       "      <th>2</th>\n",
       "      <td>5.00</td>\n",
       "      <td>16</td>\n",
       "      <td>1000</td>\n",
       "      <td>1</td>\n",
       "      <td>62</td>\n",
       "      <td>0</td>\n",
       "      <td>0</td>\n",
       "      <td>0</td>\n",
       "      <td>0</td>\n",
       "      <td>blue</td>\n",
       "      <td>...</td>\n",
       "      <td>2</td>\n",
       "      <td>0</td>\n",
       "      <td>41</td>\n",
       "      <td>50</td>\n",
       "      <td>0.0</td>\n",
       "      <td>CN</td>\n",
       "      <td>10501</td>\n",
       "      <td>4.029235</td>\n",
       "      <td>0</td>\n",
       "      <td>20</td>\n",
       "    </tr>\n",
       "    <tr>\n",
       "      <th>3</th>\n",
       "      <td>18.00</td>\n",
       "      <td>27</td>\n",
       "      <td>5000</td>\n",
       "      <td>1</td>\n",
       "      <td>1903</td>\n",
       "      <td>0</td>\n",
       "      <td>0</td>\n",
       "      <td>0</td>\n",
       "      <td>0</td>\n",
       "      <td>blue</td>\n",
       "      <td>...</td>\n",
       "      <td>5</td>\n",
       "      <td>0</td>\n",
       "      <td>42</td>\n",
       "      <td>50</td>\n",
       "      <td>0.0</td>\n",
       "      <td>CN</td>\n",
       "      <td>15855</td>\n",
       "      <td>4.052917</td>\n",
       "      <td>0</td>\n",
       "      <td>18</td>\n",
       "    </tr>\n",
       "    <tr>\n",
       "      <th>4</th>\n",
       "      <td>12.00</td>\n",
       "      <td>81</td>\n",
       "      <td>20000</td>\n",
       "      <td>0</td>\n",
       "      <td>1799</td>\n",
       "      <td>0</td>\n",
       "      <td>0</td>\n",
       "      <td>0</td>\n",
       "      <td>0</td>\n",
       "      <td>white</td>\n",
       "      <td>...</td>\n",
       "      <td>3</td>\n",
       "      <td>0</td>\n",
       "      <td>38</td>\n",
       "      <td>50</td>\n",
       "      <td>1.0</td>\n",
       "      <td>CN</td>\n",
       "      <td>151914</td>\n",
       "      <td>4.127921</td>\n",
       "      <td>0</td>\n",
       "      <td>13</td>\n",
       "    </tr>\n",
       "  </tbody>\n",
       "</table>\n",
       "<p>5 rows × 22 columns</p>\n",
       "</div>"
      ],
      "text/plain": [
       "   price  retail_price  units_sold  uses_ad_boosts  rating_count  \\\n",
       "0   5.75             5          10               1             0   \n",
       "1   7.00             7        5000               0           579   \n",
       "2   5.00            16        1000               1            62   \n",
       "3  18.00            27        5000               1          1903   \n",
       "4  12.00            81       20000               0          1799   \n",
       "\n",
       "   badges_count  badge_local_product  badge_product_quality  \\\n",
       "0             0                    0                      0   \n",
       "1             0                    0                      0   \n",
       "2             0                    0                      0   \n",
       "3             0                    0                      0   \n",
       "4             0                    0                      0   \n",
       "\n",
       "   badge_fast_shipping product_color  ... shipping_option_price  \\\n",
       "0                    0         white  ...                     2   \n",
       "1                    0         black  ...                     2   \n",
       "2                    0          blue  ...                     2   \n",
       "3                    0          blue  ...                     5   \n",
       "4                    0         white  ...                     3   \n",
       "\n",
       "   shipping_is_express  countries_shipped_to  inventory_total  \\\n",
       "0                    0                   139               50   \n",
       "1                    0                    31               50   \n",
       "2                    0                    41               50   \n",
       "3                    0                    42               50   \n",
       "4                    0                    38               50   \n",
       "\n",
       "   has_urgency_banner  origin_country  merchant_rating_count merchant_rating  \\\n",
       "0                 0.0              CN                      3        2.333333   \n",
       "1                 0.0              CN                   4213        4.058391   \n",
       "2                 0.0              CN                  10501        4.029235   \n",
       "3                 0.0              CN                  15855        4.052917   \n",
       "4                 1.0              CN                 151914        4.127921   \n",
       "\n",
       "   merchant_has_profile_picture  tags_count  \n",
       "0                             0          19  \n",
       "1                             0          22  \n",
       "2                             0          20  \n",
       "3                             0          18  \n",
       "4                             0          13  \n",
       "\n",
       "[5 rows x 22 columns]"
      ]
     },
     "execution_count": 42,
     "metadata": {},
     "output_type": "execute_result"
    }
   ],
   "source": [
    "test.head()"
   ]
  },
  {
   "cell_type": "code",
   "execution_count": 43,
   "id": "17cb6bd4",
   "metadata": {},
   "outputs": [
    {
     "data": {
      "text/html": [
       "<div>\n",
       "<style scoped>\n",
       "    .dataframe tbody tr th:only-of-type {\n",
       "        vertical-align: middle;\n",
       "    }\n",
       "\n",
       "    .dataframe tbody tr th {\n",
       "        vertical-align: top;\n",
       "    }\n",
       "\n",
       "    .dataframe thead th {\n",
       "        text-align: right;\n",
       "    }\n",
       "</style>\n",
       "<table border=\"1\" class=\"dataframe\">\n",
       "  <thead>\n",
       "    <tr style=\"text-align: right;\">\n",
       "      <th></th>\n",
       "      <th>price</th>\n",
       "      <th>retail_price</th>\n",
       "      <th>units_sold</th>\n",
       "      <th>uses_ad_boosts</th>\n",
       "      <th>rating</th>\n",
       "      <th>rating_count</th>\n",
       "      <th>badges_count</th>\n",
       "      <th>badge_local_product</th>\n",
       "      <th>badge_product_quality</th>\n",
       "      <th>badge_fast_shipping</th>\n",
       "      <th>...</th>\n",
       "      <th>shipping_option_price</th>\n",
       "      <th>shipping_is_express</th>\n",
       "      <th>countries_shipped_to</th>\n",
       "      <th>inventory_total</th>\n",
       "      <th>has_urgency_banner</th>\n",
       "      <th>origin_country</th>\n",
       "      <th>merchant_rating_count</th>\n",
       "      <th>merchant_rating</th>\n",
       "      <th>merchant_has_profile_picture</th>\n",
       "      <th>tags_count</th>\n",
       "    </tr>\n",
       "  </thead>\n",
       "  <tbody>\n",
       "    <tr>\n",
       "      <th>0</th>\n",
       "      <td>8.00</td>\n",
       "      <td>7</td>\n",
       "      <td>10000</td>\n",
       "      <td>1</td>\n",
       "      <td>4.0</td>\n",
       "      <td>1670</td>\n",
       "      <td>0</td>\n",
       "      <td>0</td>\n",
       "      <td>0</td>\n",
       "      <td>0</td>\n",
       "      <td>...</td>\n",
       "      <td>3</td>\n",
       "      <td>0</td>\n",
       "      <td>30</td>\n",
       "      <td>50</td>\n",
       "      <td>0.0</td>\n",
       "      <td>CN</td>\n",
       "      <td>66644</td>\n",
       "      <td>4.137582</td>\n",
       "      <td>1</td>\n",
       "      <td>16</td>\n",
       "    </tr>\n",
       "    <tr>\n",
       "      <th>1</th>\n",
       "      <td>8.00</td>\n",
       "      <td>7</td>\n",
       "      <td>1000</td>\n",
       "      <td>0</td>\n",
       "      <td>4.0</td>\n",
       "      <td>843</td>\n",
       "      <td>1</td>\n",
       "      <td>1</td>\n",
       "      <td>0</td>\n",
       "      <td>0</td>\n",
       "      <td>...</td>\n",
       "      <td>3</td>\n",
       "      <td>0</td>\n",
       "      <td>37</td>\n",
       "      <td>50</td>\n",
       "      <td>0.0</td>\n",
       "      <td>CN</td>\n",
       "      <td>25752</td>\n",
       "      <td>4.256873</td>\n",
       "      <td>0</td>\n",
       "      <td>22</td>\n",
       "    </tr>\n",
       "    <tr>\n",
       "      <th>2</th>\n",
       "      <td>6.00</td>\n",
       "      <td>34</td>\n",
       "      <td>100</td>\n",
       "      <td>0</td>\n",
       "      <td>4.0</td>\n",
       "      <td>10</td>\n",
       "      <td>0</td>\n",
       "      <td>0</td>\n",
       "      <td>0</td>\n",
       "      <td>0</td>\n",
       "      <td>...</td>\n",
       "      <td>2</td>\n",
       "      <td>0</td>\n",
       "      <td>41</td>\n",
       "      <td>50</td>\n",
       "      <td>0.0</td>\n",
       "      <td>CN</td>\n",
       "      <td>3897</td>\n",
       "      <td>3.928920</td>\n",
       "      <td>0</td>\n",
       "      <td>23</td>\n",
       "    </tr>\n",
       "    <tr>\n",
       "      <th>3</th>\n",
       "      <td>4.67</td>\n",
       "      <td>4</td>\n",
       "      <td>100</td>\n",
       "      <td>1</td>\n",
       "      <td>3.0</td>\n",
       "      <td>82</td>\n",
       "      <td>0</td>\n",
       "      <td>0</td>\n",
       "      <td>0</td>\n",
       "      <td>0</td>\n",
       "      <td>...</td>\n",
       "      <td>1</td>\n",
       "      <td>0</td>\n",
       "      <td>25</td>\n",
       "      <td>50</td>\n",
       "      <td>0.0</td>\n",
       "      <td>CN</td>\n",
       "      <td>7497</td>\n",
       "      <td>4.079365</td>\n",
       "      <td>0</td>\n",
       "      <td>16</td>\n",
       "    </tr>\n",
       "    <tr>\n",
       "      <th>4</th>\n",
       "      <td>8.00</td>\n",
       "      <td>11</td>\n",
       "      <td>1000</td>\n",
       "      <td>0</td>\n",
       "      <td>4.0</td>\n",
       "      <td>127</td>\n",
       "      <td>0</td>\n",
       "      <td>0</td>\n",
       "      <td>0</td>\n",
       "      <td>0</td>\n",
       "      <td>...</td>\n",
       "      <td>3</td>\n",
       "      <td>0</td>\n",
       "      <td>15</td>\n",
       "      <td>50</td>\n",
       "      <td>1.0</td>\n",
       "      <td>CN</td>\n",
       "      <td>173</td>\n",
       "      <td>4.306358</td>\n",
       "      <td>0</td>\n",
       "      <td>20</td>\n",
       "    </tr>\n",
       "  </tbody>\n",
       "</table>\n",
       "<p>5 rows × 23 columns</p>\n",
       "</div>"
      ],
      "text/plain": [
       "   price  retail_price  units_sold  uses_ad_boosts  rating  rating_count  \\\n",
       "0   8.00             7       10000               1     4.0          1670   \n",
       "1   8.00             7        1000               0     4.0           843   \n",
       "2   6.00            34         100               0     4.0            10   \n",
       "3   4.67             4         100               1     3.0            82   \n",
       "4   8.00            11        1000               0     4.0           127   \n",
       "\n",
       "   badges_count  badge_local_product  badge_product_quality  \\\n",
       "0             0                    0                      0   \n",
       "1             1                    1                      0   \n",
       "2             0                    0                      0   \n",
       "3             0                    0                      0   \n",
       "4             0                    0                      0   \n",
       "\n",
       "   badge_fast_shipping  ... shipping_option_price shipping_is_express  \\\n",
       "0                    0  ...                     3                   0   \n",
       "1                    0  ...                     3                   0   \n",
       "2                    0  ...                     2                   0   \n",
       "3                    0  ...                     1                   0   \n",
       "4                    0  ...                     3                   0   \n",
       "\n",
       "   countries_shipped_to  inventory_total  has_urgency_banner  origin_country  \\\n",
       "0                    30               50                 0.0              CN   \n",
       "1                    37               50                 0.0              CN   \n",
       "2                    41               50                 0.0              CN   \n",
       "3                    25               50                 0.0              CN   \n",
       "4                    15               50                 1.0              CN   \n",
       "\n",
       "   merchant_rating_count  merchant_rating merchant_has_profile_picture  \\\n",
       "0                  66644         4.137582                            1   \n",
       "1                  25752         4.256873                            0   \n",
       "2                   3897         3.928920                            0   \n",
       "3                   7497         4.079365                            0   \n",
       "4                    173         4.306358                            0   \n",
       "\n",
       "   tags_count  \n",
       "0          16  \n",
       "1          22  \n",
       "2          23  \n",
       "3          16  \n",
       "4          20  \n",
       "\n",
       "[5 rows x 23 columns]"
      ]
     },
     "execution_count": 43,
     "metadata": {},
     "output_type": "execute_result"
    }
   ],
   "source": [
    "train.head()"
   ]
  },
  {
   "cell_type": "markdown",
   "id": "302354e1",
   "metadata": {},
   "source": [
    "## One hot Encoding"
   ]
  },
  {
   "cell_type": "code",
   "execution_count": 44,
   "id": "443f05f7",
   "metadata": {},
   "outputs": [],
   "source": [
    "# I noticed that my data set has alot of categorical values \n",
    "train = pd.get_dummies(train)\n",
    "train.drop([\"origin_country_GB\"],axis=1,inplace=True)\n"
   ]
  },
  {
   "cell_type": "code",
   "execution_count": 45,
   "id": "a56b102f",
   "metadata": {
    "scrolled": true
   },
   "outputs": [
    {
     "name": "stdout",
     "output_type": "stream",
     "text": [
      "<class 'pandas.core.frame.DataFrame'>\n",
      "Int64Index: 1094 entries, 0 to 1093\n",
      "Data columns (total 45 columns):\n",
      " #   Column                           Non-Null Count  Dtype  \n",
      "---  ------                           --------------  -----  \n",
      " 0   price                            1094 non-null   float64\n",
      " 1   retail_price                     1094 non-null   int64  \n",
      " 2   units_sold                       1094 non-null   int64  \n",
      " 3   uses_ad_boosts                   1094 non-null   int64  \n",
      " 4   rating                           1094 non-null   float64\n",
      " 5   rating_count                     1094 non-null   int64  \n",
      " 6   badges_count                     1094 non-null   int64  \n",
      " 7   badge_local_product              1094 non-null   int64  \n",
      " 8   badge_product_quality            1094 non-null   int64  \n",
      " 9   badge_fast_shipping              1094 non-null   int64  \n",
      " 10  product_variation_inventory      1094 non-null   int64  \n",
      " 11  shipping_option_price            1094 non-null   int64  \n",
      " 12  shipping_is_express              1094 non-null   int64  \n",
      " 13  countries_shipped_to             1094 non-null   int64  \n",
      " 14  inventory_total                  1094 non-null   int64  \n",
      " 15  has_urgency_banner               1094 non-null   float64\n",
      " 16  merchant_rating_count            1094 non-null   int64  \n",
      " 17  merchant_rating                  1094 non-null   float64\n",
      " 18  merchant_has_profile_picture     1094 non-null   int64  \n",
      " 19  tags_count                       1094 non-null   int64  \n",
      " 20  product_color_black              1094 non-null   uint8  \n",
      " 21  product_color_blue               1094 non-null   uint8  \n",
      " 22  product_color_brown              1094 non-null   uint8  \n",
      " 23  product_color_dual               1094 non-null   uint8  \n",
      " 24  product_color_green              1094 non-null   uint8  \n",
      " 25  product_color_grey               1094 non-null   uint8  \n",
      " 26  product_color_orange             1094 non-null   uint8  \n",
      " 27  product_color_other              1094 non-null   uint8  \n",
      " 28  product_color_pink               1094 non-null   uint8  \n",
      " 29  product_color_purple             1094 non-null   uint8  \n",
      " 30  product_color_red                1094 non-null   uint8  \n",
      " 31  product_color_white              1094 non-null   uint8  \n",
      " 32  product_color_yellow             1094 non-null   uint8  \n",
      " 33  product_variation_size_id_L      1094 non-null   uint8  \n",
      " 34  product_variation_size_id_M      1094 non-null   uint8  \n",
      " 35  product_variation_size_id_OTHER  1094 non-null   uint8  \n",
      " 36  product_variation_size_id_S      1094 non-null   uint8  \n",
      " 37  product_variation_size_id_XL     1094 non-null   uint8  \n",
      " 38  product_variation_size_id_XS     1094 non-null   uint8  \n",
      " 39  product_variation_size_id_XXL    1094 non-null   uint8  \n",
      " 40  product_variation_size_id_XXS    1094 non-null   uint8  \n",
      " 41  origin_country_CN                1094 non-null   uint8  \n",
      " 42  origin_country_SG                1094 non-null   uint8  \n",
      " 43  origin_country_US                1094 non-null   uint8  \n",
      " 44  origin_country_VE                1094 non-null   uint8  \n",
      "dtypes: float64(4), int64(16), uint8(25)\n",
      "memory usage: 238.5 KB\n"
     ]
    }
   ],
   "source": [
    "train.info()"
   ]
  },
  {
   "cell_type": "code",
   "execution_count": 46,
   "id": "9e5ba71e",
   "metadata": {},
   "outputs": [],
   "source": [
    "#Defining the labels and the features of our train dataset \n",
    "Xtr=train.loc[:,train.columns!='rating']\n",
    "Ytr = train.rating"
   ]
  },
  {
   "cell_type": "markdown",
   "id": "de73d616",
   "metadata": {},
   "source": [
    "## Spliting data"
   ]
  },
  {
   "cell_type": "code",
   "execution_count": 47,
   "id": "ddf866a9",
   "metadata": {},
   "outputs": [],
   "source": [
    "from sklearn.model_selection import train_test_split\n",
    "\n",
    "# spliting the train data into new train and test to fit the models using the new train and test them using the new test\n",
    "X_tr, X_ts, y_tr, y_ts = train_test_split(Xtr, Ytr, random_state=25, test_size=0.1)"
   ]
  },
  {
   "cell_type": "markdown",
   "id": "344477a3",
   "metadata": {},
   "source": [
    "## Building Models"
   ]
  },
  {
   "cell_type": "code",
   "execution_count": 48,
   "id": "f1ba1a76",
   "metadata": {},
   "outputs": [],
   "source": [
    "from sklearn.metrics import confusion_matrix, accuracy_score, f1_score\n",
    "from sklearn.tree import DecisionTreeClassifier\n",
    "from sklearn.svm import SVC\n",
    "from sklearn.model_selection import GridSearchCV"
   ]
  },
  {
   "cell_type": "markdown",
   "id": "b60b983a",
   "metadata": {},
   "source": [
    "## Decision Tree trial 1\n",
    "I used Decision tree with its defualt hyperparameter as the first try👌"
   ]
  },
  {
   "cell_type": "code",
   "execution_count": 49,
   "id": "0a4e2f39",
   "metadata": {},
   "outputs": [
    {
     "data": {
      "text/plain": [
       "0.47516711229946523"
      ]
     },
     "execution_count": 49,
     "metadata": {},
     "output_type": "execute_result"
    }
   ],
   "source": [
    "r_state = 43\n",
    "classifier_DTC = DecisionTreeClassifier(random_state = r_state)\n",
    "classifier_DTC.fit(X_tr, y_tr)\n",
    "\n",
    "# test the classifier\n",
    "f1_score(y_ts, classifier_DTC.predict(X_ts), average='macro')"
   ]
  },
  {
   "cell_type": "code",
   "execution_count": 50,
   "id": "163440cb",
   "metadata": {},
   "outputs": [
    {
     "data": {
      "text/plain": [
       "array([4., 4., 4., 4., 5., 4., 3., 4., 4., 4., 4., 3., 5., 4., 3., 4., 4.,\n",
       "       4., 5., 3., 4., 3., 3., 4., 5., 5., 5., 4., 4., 4., 5., 4., 4., 4.,\n",
       "       3., 4., 4., 4., 4., 5., 4., 4., 4., 5., 4., 4., 4., 4., 4., 4., 4.,\n",
       "       5., 4., 4., 4., 4., 4., 4., 4., 4., 4., 5., 5., 3., 4., 4., 4., 4.,\n",
       "       4., 4., 4., 4., 4., 4., 3., 4., 5., 4., 4., 4., 4., 3., 4., 4., 4.,\n",
       "       4., 4., 3., 4., 5., 5., 4., 2., 4., 4., 4., 5., 4., 4., 5., 4., 4.,\n",
       "       4., 5., 4., 4., 4., 4., 4., 5.])"
      ]
     },
     "execution_count": 50,
     "metadata": {},
     "output_type": "execute_result"
    }
   ],
   "source": [
    "# predict on test data set that provided on the competition\n",
    "y_pred_DTC = classifier_DTC.predict(X_ts)\n",
    "y_pred_DTC"
   ]
  },
  {
   "cell_type": "code",
   "execution_count": 51,
   "id": "dc8b9b33",
   "metadata": {},
   "outputs": [
    {
     "data": {
      "text/plain": [
       "(0.9989837398373984, 0.6545454545454545)"
      ]
     },
     "execution_count": 51,
     "metadata": {},
     "output_type": "execute_result"
    }
   ],
   "source": [
    "classifier_DTC.score(X_tr, y_tr), classifier_DTC.score(X_ts, y_ts)"
   ]
  },
  {
   "cell_type": "markdown",
   "id": "6d2f72d0",
   "metadata": {},
   "source": [
    "## Decision Tree Trial 2\n",
    "I used Decision tree with GridSearchCV to search for the best hyperparameters and gives a better accuracy.👌"
   ]
  },
  {
   "cell_type": "code",
   "execution_count": 52,
   "id": "c58ae556",
   "metadata": {},
   "outputs": [
    {
     "name": "stdout",
     "output_type": "stream",
     "text": [
      "Fitting 10 folds for each of 18 candidates, totalling 180 fits\n"
     ]
    },
    {
     "name": "stderr",
     "output_type": "stream",
     "text": [
      "C:\\Users\\DEBI\\Downloads\\anaconda\\lib\\site-packages\\sklearn\\model_selection\\_split.py:676: UserWarning: The least populated class in y has only 1 members, which is less than n_splits=10.\n",
      "  warnings.warn(\n"
     ]
    },
    {
     "name": "stdout",
     "output_type": "stream",
     "text": [
      "{'criterion': 'gini', 'max_depth': 4}\n"
     ]
    }
   ],
   "source": [
    "from sklearn.model_selection import GridSearchCV #importing GidSearchCv\n",
    "from sklearn import tree #importing tree \n",
    "from sklearn.tree import DecisionTreeClassifier #importing DecisionTreeClassifier\n",
    "#Using gridsearch to find the best parameters\n",
    "param_grid = {'criterion' :['gini', 'entropy'],\n",
    "              'max_depth' : [2,4,6,7,8,10,12,14,16]\n",
    "             }\n",
    "clf = DecisionTreeClassifier(random_state=1024)\n",
    "grid_search = GridSearchCV(estimator=clf, param_grid=param_grid, cv=10, verbose=True, scoring = \"accuracy\")\n",
    "grid_search.fit(Xtr, Ytr)\n",
    "print(grid_search.best_params_)"
   ]
  },
  {
   "cell_type": "code",
   "execution_count": 53,
   "id": "626a7af9",
   "metadata": {},
   "outputs": [
    {
     "data": {
      "text/plain": [
       "0.8000000000000002"
      ]
     },
     "execution_count": 53,
     "metadata": {},
     "output_type": "execute_result"
    }
   ],
   "source": [
    "# test the classifier \n",
    "f1_score(y_ts, grid_search.predict(X_ts), average='micro')\n"
   ]
  },
  {
   "cell_type": "code",
   "execution_count": 54,
   "id": "6bb69156",
   "metadata": {},
   "outputs": [
    {
     "data": {
      "text/plain": [
       "array([4., 4., 4., 4., 5., 4., 4., 4., 4., 4., 4., 4., 4., 4., 4., 4., 4.,\n",
       "       4., 4., 4., 4., 4., 3., 4., 4., 4., 5., 4., 4., 4., 5., 4., 4., 4.,\n",
       "       4., 4., 4., 4., 4., 5., 4., 4., 4., 4., 4., 4., 4., 4., 4., 4., 4.,\n",
       "       4., 4., 4., 4., 4., 4., 4., 4., 4., 4., 4., 4., 3., 4., 4., 4., 4.,\n",
       "       4., 4., 4., 4., 4., 4., 4., 4., 4., 4., 4., 4., 4., 4., 4., 4., 4.,\n",
       "       4., 4., 4., 4., 4., 4., 4., 2., 4., 4., 4., 5., 4., 4., 4., 4., 3.,\n",
       "       4., 4., 4., 4., 4., 4., 4., 4.])"
      ]
     },
     "execution_count": 54,
     "metadata": {},
     "output_type": "execute_result"
    }
   ],
   "source": [
    "y_pred_DTC2 = grid_search.predict(X_ts)\n",
    "y_pred_DTC2"
   ]
  },
  {
   "cell_type": "code",
   "execution_count": 55,
   "id": "aa894ac9",
   "metadata": {},
   "outputs": [
    {
     "data": {
      "text/plain": [
       "0.8"
      ]
     },
     "execution_count": 55,
     "metadata": {},
     "output_type": "execute_result"
    }
   ],
   "source": [
    "from sklearn.metrics import accuracy_score\n",
    "\n",
    "accuracy_score(y_pred_DTC2, y_ts)"
   ]
  },
  {
   "cell_type": "code",
   "execution_count": 56,
   "id": "3511404c",
   "metadata": {},
   "outputs": [
    {
     "data": {
      "text/plain": [
       "(0.7987804878048781, 0.8)"
      ]
     },
     "execution_count": 56,
     "metadata": {},
     "output_type": "execute_result"
    }
   ],
   "source": [
    "#s we can see , we have achieved 83% accuracy trainingdataset and 80% on testing datasets. \n",
    "grid_search.score(X_tr, y_tr), grid_search.score(X_ts, y_ts)"
   ]
  },
  {
   "cell_type": "markdown",
   "id": "c0cc9bf0",
   "metadata": {},
   "source": [
    "## Naive Bayesian trial 1\n",
    "I used Naive Bayesian with its defualt hyperparameter as the first try👌"
   ]
  },
  {
   "cell_type": "code",
   "execution_count": 57,
   "id": "dceee589",
   "metadata": {},
   "outputs": [
    {
     "data": {
      "text/plain": [
       "0.43636363636363634"
      ]
     },
     "execution_count": 57,
     "metadata": {},
     "output_type": "execute_result"
    }
   ],
   "source": [
    "#Building a naive bayes \n",
    "from sklearn.naive_bayes import GaussianNB\n",
    "\n",
    "classifier_GNB = GaussianNB()\n",
    "classifier_GNB.fit(X_tr, y_tr)\n",
    "\n",
    "# test the classifier\n",
    "f1_score(y_ts, classifier_GNB.predict(X_ts), average='micro')"
   ]
  },
  {
   "cell_type": "code",
   "execution_count": 58,
   "id": "9104446f",
   "metadata": {},
   "outputs": [
    {
     "data": {
      "text/plain": [
       "array([4., 4., 3., 3., 2., 4., 3., 4., 3., 3., 2., 4., 4., 2., 2., 3., 4.,\n",
       "       3., 4., 3., 3., 3., 2., 3., 4., 4., 4., 4., 4., 3., 3., 3., 3., 3.,\n",
       "       4., 3., 4., 4., 4., 4., 4., 4., 3., 4., 3., 4., 4., 3., 3., 4., 3.,\n",
       "       3., 4., 3., 4., 2., 3., 3., 3., 3., 4., 4., 4., 2., 3., 3., 2., 3.,\n",
       "       3., 4., 3., 3., 3., 3., 2., 3., 5., 3., 4., 3., 5., 3., 2., 3., 3.,\n",
       "       3., 4., 2., 4., 4., 3., 4., 2., 4., 3., 4., 4., 4., 3., 4., 3., 2.,\n",
       "       3., 4., 3., 3., 3., 4., 3., 4.])"
      ]
     },
     "execution_count": 58,
     "metadata": {},
     "output_type": "execute_result"
    }
   ],
   "source": [
    "# predict on test data set that provided on the competition\n",
    "y_pred_GNB = classifier_GNB.predict(X_ts)\n",
    "y_pred_GNB"
   ]
  },
  {
   "cell_type": "markdown",
   "id": "4ed3d42d",
   "metadata": {},
   "source": [
    "## Naive Bayesian trial 2\n",
    "I used Naive Bayesian with GridSearchCV to search for the best hyperparameters and gives a better accuracy.👌"
   ]
  },
  {
   "cell_type": "code",
   "execution_count": 59,
   "id": "3d2af432",
   "metadata": {},
   "outputs": [],
   "source": [
    "from sklearn.model_selection import RepeatedStratifiedKFold\n",
    "\n",
    "cv_method = RepeatedStratifiedKFold(n_splits=5, \n",
    "                                    n_repeats=3, \n",
    "                                    random_state=999)"
   ]
  },
  {
   "cell_type": "code",
   "execution_count": 60,
   "id": "30861764",
   "metadata": {},
   "outputs": [
    {
     "name": "stdout",
     "output_type": "stream",
     "text": [
      "Fitting 15 folds for each of 100 candidates, totalling 1500 fits\n"
     ]
    },
    {
     "name": "stderr",
     "output_type": "stream",
     "text": [
      "C:\\Users\\DEBI\\Downloads\\anaconda\\lib\\site-packages\\sklearn\\preprocessing\\_data.py:3253: RuntimeWarning: divide by zero encountered in log\n",
      "  loglike = -n_samples / 2 * np.log(x_trans.var())\n",
      "C:\\Users\\DEBI\\Downloads\\anaconda\\lib\\site-packages\\numpy\\core\\_methods.py:233: RuntimeWarning: overflow encountered in multiply\n",
      "  x = um.multiply(x, x, out=x)\n",
      "C:\\Users\\DEBI\\Downloads\\anaconda\\lib\\site-packages\\numpy\\core\\_methods.py:244: RuntimeWarning: overflow encountered in reduce\n",
      "  ret = umr_sum(x, axis, dtype, out, keepdims=keepdims, where=where)\n",
      "C:\\Users\\DEBI\\Downloads\\anaconda\\lib\\site-packages\\sklearn\\model_selection\\_split.py:676: UserWarning: The least populated class in y has only 3 members, which is less than n_splits=5.\n",
      "  warnings.warn(\n",
      "C:\\Users\\DEBI\\Downloads\\anaconda\\lib\\site-packages\\sklearn\\model_selection\\_split.py:676: UserWarning: The least populated class in y has only 3 members, which is less than n_splits=5.\n",
      "  warnings.warn(\n",
      "C:\\Users\\DEBI\\Downloads\\anaconda\\lib\\site-packages\\sklearn\\model_selection\\_split.py:676: UserWarning: The least populated class in y has only 3 members, which is less than n_splits=5.\n",
      "  warnings.warn(\n"
     ]
    }
   ],
   "source": [
    "from sklearn.preprocessing import PowerTransformer\n",
    "\n",
    "params_NB = {'var_smoothing': np.logspace(0,-9, num=100)}\n",
    "\n",
    "gs_NB = GridSearchCV(estimator= GaussianNB(), \n",
    "                     param_grid=params_NB, \n",
    "                     cv=cv_method,\n",
    "                     verbose=1, \n",
    "                     scoring='accuracy')\n",
    "\n",
    "Data_transformed = PowerTransformer().fit_transform(X_ts)\n",
    "\n",
    "gs_NB.fit(Data_transformed, y_ts);"
   ]
  },
  {
   "cell_type": "code",
   "execution_count": 61,
   "id": "507ac8e9",
   "metadata": {},
   "outputs": [
    {
     "name": "stdout",
     "output_type": "stream",
     "text": [
      "accuracy_score on test dataset :  0.6090909090909091\n"
     ]
    }
   ],
   "source": [
    "predict_test = gs_NB.predict(Data_transformed)\n",
    "\n",
    "# Accuracy Score on test dataset\n",
    "accuracy_test = accuracy_score(y_ts,predict_test)\n",
    "print('accuracy_score on test dataset : ', accuracy_test)"
   ]
  },
  {
   "cell_type": "code",
   "execution_count": 62,
   "id": "5817dac4",
   "metadata": {},
   "outputs": [],
   "source": [
    "results_NB = pd.DataFrame(gs_NB.cv_results_['params'])\n",
    "results_NB['test_score'] = gs_NB.cv_results_['mean_test_score']"
   ]
  },
  {
   "cell_type": "code",
   "execution_count": 63,
   "id": "7539e967",
   "metadata": {},
   "outputs": [
    {
     "data": {
      "image/png": "[encoded data removed]",
      "text/plain": [
       "<Figure size 640x480 with 1 Axes>"
      ]
     },
     "metadata": {},
     "output_type": "display_data"
    }
   ],
   "source": [
    "plt.plot(results_NB['var_smoothing'], results_NB['test_score'], marker = '.')    \n",
    "plt.xlabel('Var. Smoothing')\n",
    "plt.ylabel(\"Mean CV Score\")\n",
    "plt.title(\"NB Performance Comparison\")\n",
    "plt.show()"
   ]
  },
  {
   "cell_type": "code",
   "execution_count": 64,
   "id": "6034fd27",
   "metadata": {},
   "outputs": [
    {
     "name": "stdout",
     "output_type": "stream",
     "text": [
      "the F1 score is\n"
     ]
    },
    {
     "name": "stderr",
     "output_type": "stream",
     "text": [
      "C:\\Users\\DEBI\\Downloads\\anaconda\\lib\\site-packages\\sklearn\\base.py:443: UserWarning: X has feature names, but GaussianNB was fitted without feature names\n",
      "  warnings.warn(\n"
     ]
    },
    {
     "data": {
      "text/plain": [
       "0.12727272727272726"
      ]
     },
     "execution_count": 64,
     "metadata": {},
     "output_type": "execute_result"
    }
   ],
   "source": [
    "from sklearn.metrics import f1_score\n",
    "print(\"the F1 score is\")\n",
    "f1_score(y_ts, gs_NB.predict(X_ts), average='micro')"
   ]
  },
  {
   "cell_type": "markdown",
   "id": "b57c7e06",
   "metadata": {},
   "source": [
    "## Support vector model trial 1\n",
    "I used Support vector with its defualt hyperparameter as the first try👌"
   ]
  },
  {
   "cell_type": "code",
   "execution_count": 65,
   "id": "7653f7d5",
   "metadata": {},
   "outputs": [
    {
     "data": {
      "text/plain": [
       "SVC(C=10, gamma=0.001)"
      ]
     },
     "execution_count": 65,
     "metadata": {},
     "output_type": "execute_result"
    }
   ],
   "source": [
    "#Building Svm model\n",
    "from sklearn.svm import SVC\n",
    "from sklearn.metrics import accuracy_score\n",
    "\n",
    "svm = SVC(kernel='rbf', gamma=0.001, C=10)\n",
    "svm.fit(X_tr,y_tr)"
   ]
  },
  {
   "cell_type": "code",
   "execution_count": 66,
   "id": "6dd409c2",
   "metadata": {},
   "outputs": [
    {
     "name": "stdout",
     "output_type": "stream",
     "text": [
      "[4. 4. 4. 4. 4. 4. 4. 4. 4. 4. 4. 4. 5. 3. 3. 4. 4. 4. 4. 4. 4. 4. 3. 4.\n",
      " 4. 4. 4. 4. 4. 4. 4. 4. 4. 4. 4. 4. 4. 4. 4. 4. 4. 4. 4. 4. 4. 4. 4. 4.\n",
      " 4. 4. 4. 4. 4. 4. 4. 3. 4. 4. 4. 4. 4. 5. 4. 3. 4. 4. 4. 4. 4. 4. 4. 4.\n",
      " 4. 4. 3. 4. 4. 4. 4. 4. 4. 4. 4. 4. 4. 4. 4. 3. 4. 4. 4. 4. 2. 4. 4. 4.\n",
      " 4. 4. 4. 4. 4. 4. 4. 4. 4. 4. 3. 4. 4. 4.]\n"
     ]
    }
   ],
   "source": [
    "#Predicting using Svm model\n",
    "y_pred_svm = svm.predict(X_ts)\n",
    "print(y_pred_svm)"
   ]
  },
  {
   "cell_type": "markdown",
   "id": "ef1c9e07",
   "metadata": {},
   "source": [
    "##  Support vector model trial2\n",
    "I used Support vector with GridSearchCV to search for the best hyperparameters and gives a better accuracy.👌"
   ]
  },
  {
   "cell_type": "code",
   "execution_count": 67,
   "id": "29b379c0",
   "metadata": {},
   "outputs": [
    {
     "name": "stderr",
     "output_type": "stream",
     "text": [
      "C:\\Users\\DEBI\\Downloads\\anaconda\\lib\\site-packages\\sklearn\\model_selection\\_split.py:676: UserWarning: The least populated class in y has only 1 members, which is less than n_splits=5.\n",
      "  warnings.warn(\n"
     ]
    },
    {
     "name": "stdout",
     "output_type": "stream",
     "text": [
      "{'C': 10, 'gamma': 0.1, 'kernel': 'rbf'}\n"
     ]
    }
   ],
   "source": [
    "param_grid_SVC = {\n",
    "    'C': [0.1, 1, 10, 100, 1000],\n",
    "    'kernel': ['rbf'],\n",
    "    'gamma': [1, 0.1, 0.01, 0.001, 0.0001]\n",
    "}\n",
    "grid_classifier_SVC = GridSearchCV(SVC(probability=True), param_grid_SVC,scoring='accuracy', \n",
    "                       cv=5, refit=True, return_train_score=True)\n",
    "grid_classifier_SVC.fit(X_tr, y_tr)\n",
    "\n",
    "print(grid_classifier_SVC.best_params_)"
   ]
  },
  {
   "cell_type": "code",
   "execution_count": 68,
   "id": "5ed48721",
   "metadata": {},
   "outputs": [
    {
     "data": {
      "text/plain": [
       "0.7545454545454545"
      ]
     },
     "execution_count": 68,
     "metadata": {},
     "output_type": "execute_result"
    }
   ],
   "source": [
    "f1_score(y_ts, grid_classifier_SVC.predict(X_ts), average='micro')"
   ]
  },
  {
   "cell_type": "code",
   "execution_count": 69,
   "id": "8c9336f6",
   "metadata": {},
   "outputs": [
    {
     "data": {
      "text/plain": [
       "array([4., 4., 4., 4., 4., 4., 4., 4., 4., 4., 4., 4., 5., 4., 3., 4., 4.,\n",
       "       4., 4., 4., 4., 4., 3., 4., 4., 4., 4., 4., 4., 4., 4., 4., 4., 4.,\n",
       "       4., 4., 4., 4., 4., 4., 4., 4., 4., 4., 4., 4., 4., 4., 4., 4., 4.,\n",
       "       4., 4., 4., 4., 4., 4., 4., 4., 4., 4., 5., 4., 3., 4., 4., 4., 4.,\n",
       "       4., 4., 4., 4., 4., 4., 3., 4., 4., 4., 4., 4., 4., 4., 4., 4., 4.,\n",
       "       4., 4., 3., 4., 4., 4., 4., 2., 4., 4., 4., 4., 4., 4., 4., 4., 4.,\n",
       "       4., 4., 4., 4., 4., 4., 4., 4.])"
      ]
     },
     "execution_count": 69,
     "metadata": {},
     "output_type": "execute_result"
    }
   ],
   "source": [
    "y_pred_svm2 = grid_classifier_SVC.predict(X_ts)\n",
    "y_pred_svm2"
   ]
  },
  {
   "cell_type": "code",
   "execution_count": 70,
   "id": "05c6d76d",
   "metadata": {},
   "outputs": [
    {
     "data": {
      "text/plain": [
       "(0.9989837398373984, 0.7545454545454545)"
      ]
     },
     "execution_count": 70,
     "metadata": {},
     "output_type": "execute_result"
    }
   ],
   "source": [
    "grid_classifier_SVC.score(X_tr, y_tr), grid_classifier_SVC.score(X_ts, y_ts)"
   ]
  },
  {
   "cell_type": "code",
   "execution_count": 71,
   "id": "3b5954df",
   "metadata": {},
   "outputs": [],
   "source": [
    "from sklearn.model_selection import cross_val_score"
   ]
  },
  {
   "cell_type": "code",
   "execution_count": 72,
   "id": "063db760",
   "metadata": {},
   "outputs": [],
   "source": [
    "def compute_score(clf, X, y, scoring='accuracy'):\n",
    "    xval = cross_val_score(clf, X, y, cv = 5, scoring=scoring)\n",
    "    return np.mean(xval)"
   ]
  },
  {
   "cell_type": "code",
   "execution_count": 73,
   "id": "617a84b3",
   "metadata": {},
   "outputs": [
    {
     "name": "stdout",
     "output_type": "stream",
     "text": [
      "Cross-validation of : <class 'sklearn.naive_bayes.GaussianNB'>\n",
      "CV score = 0.3842018025484305\n",
      "****\n",
      "Cross-validation of : <class 'sklearn.svm._classes.SVC'>\n",
      "CV score = 0.7042681031803586\n",
      "****\n",
      "Cross-validation of : <class 'sklearn.tree._classes.DecisionTreeClassifier'>\n",
      "CV score = 0.6981663731482441\n",
      "****\n"
     ]
    }
   ],
   "source": [
    "#A small comparosion between models\n",
    "import warnings\n",
    "warnings.filterwarnings('ignore')\n",
    "gnb = GaussianNB()\n",
    "svm = SVC()\n",
    "dc = DecisionTreeClassifier()\n",
    "models = [ gnb, svm, dc]\n",
    "\n",
    "for model in models:\n",
    "    print('Cross-validation of : {0}'.format(model.__class__))\n",
    "    score = compute_score(clf=model, X=X_tr, y=y_tr, scoring='accuracy')\n",
    "    print('CV score = {0}'.format(score))\n",
    "    print('****')"
   ]
  },
  {
   "cell_type": "code",
   "execution_count": 74,
   "id": "bb38f1b6",
   "metadata": {},
   "outputs": [],
   "source": [
    "## I noticed that my data set has alot of categorical values 👀\n",
    "test=pd.get_dummies(test)\n"
   ]
  },
  {
   "cell_type": "code",
   "execution_count": 75,
   "id": "bdb52b3f",
   "metadata": {},
   "outputs": [],
   "source": [
    "#assign the test data set to Xts\n",
    "Xts=test.loc[:]"
   ]
  },
  {
   "cell_type": "code",
   "execution_count": 76,
   "id": "c5b15487",
   "metadata": {},
   "outputs": [
    {
     "data": {
      "text/plain": [
       "(479, 44)"
      ]
     },
     "execution_count": 76,
     "metadata": {},
     "output_type": "execute_result"
    }
   ],
   "source": [
    "Xts.shape\n"
   ]
  },
  {
   "cell_type": "code",
   "execution_count": 77,
   "id": "c815af38",
   "metadata": {},
   "outputs": [
    {
     "name": "stdout",
     "output_type": "stream",
     "text": [
      "[5. 4. 4. 4. 4. 5. 4. 4. 4. 4. 4. 5. 3. 5. 4. 4. 4. 4. 5. 5. 4. 5. 3. 4.\n",
      " 4. 4. 4. 4. 4. 3. 4. 4. 4. 4. 4. 4. 4. 4. 4. 3. 5. 3. 3. 4. 4. 3. 4. 4.\n",
      " 5. 4. 4. 5. 5. 4. 4. 3. 4. 4. 4. 4. 4. 3. 4. 4. 4. 4. 4. 5. 4. 4. 4. 4.\n",
      " 3. 4. 4. 4. 4. 4. 4. 4. 4. 4. 4. 4. 4. 4. 4. 4. 4. 5. 5. 4. 3. 5. 6. 3.\n",
      " 4. 4. 4. 4. 4. 4. 4. 4. 5. 3. 5. 4. 4. 4. 4. 4. 4. 4. 4. 4. 5. 4. 5. 4.\n",
      " 3. 4. 3. 4. 4. 3. 4. 3. 4. 4. 3. 4. 4. 4. 4. 4. 4. 4. 4. 4. 5. 4. 2. 5.\n",
      " 4. 4. 3. 4. 4. 4. 4. 3. 4. 4. 3. 4. 4. 4. 5. 4. 4. 5. 4. 4. 3. 4. 4. 4.\n",
      " 4. 4. 4. 4. 4. 3. 4. 4. 4. 4. 4. 4. 4. 3. 4. 4. 4. 4. 4. 3. 4. 4. 3. 4.\n",
      " 3. 4. 4. 4. 4. 3. 4. 4. 4. 4. 4. 4. 4. 5. 4. 4. 4. 4. 4. 3. 3. 4. 4. 3.\n",
      " 4. 4. 4. 4. 3. 4. 5. 3. 4. 4. 4. 4. 4. 4. 4. 4. 4. 4. 4. 4. 4. 5. 4. 3.\n",
      " 4. 4. 3. 5. 4. 5. 4. 4. 3. 4. 3. 3. 4. 3. 4. 4. 4. 4. 5. 4. 4. 4. 4. 4.\n",
      " 4. 4. 4. 5. 4. 4. 4. 4. 4. 4. 4. 4. 4. 4. 4. 3. 4. 4. 3. 4. 4. 4. 4. 4.\n",
      " 4. 4. 3. 4. 4. 4. 4. 4. 4. 4. 4. 4. 4. 4. 4. 3. 4. 4. 3. 4. 4. 4. 4. 3.\n",
      " 4. 4. 4. 4. 5. 4. 3. 4. 3. 3. 3. 3. 4. 4. 4. 4. 5. 4. 4. 4. 4. 4. 4. 5.\n",
      " 3. 4. 4. 4. 5. 4. 4. 3. 4. 4. 4. 4. 3. 4. 4. 3. 4. 4. 4. 4. 4. 4. 4. 4.\n",
      " 4. 4. 4. 5. 4. 4. 4. 4. 5. 3. 3. 5. 4. 3. 4. 4. 4. 4. 3. 4. 4. 4. 4. 4.\n",
      " 4. 4. 3. 3. 4. 4. 4. 4. 4. 3. 5. 4. 4. 4. 4. 4. 5. 4. 4. 4. 5. 5. 4. 3.\n",
      " 5. 4. 4. 5. 4. 4. 3. 5. 3. 5. 4. 4. 5. 4. 4. 4. 4. 4. 4. 3. 3. 4. 4. 4.\n",
      " 4. 5. 4. 4. 4. 5. 5. 4. 4. 4. 4. 4. 5. 4. 4. 4. 4. 4. 4. 4. 4. 4. 4. 5.\n",
      " 3. 3. 4. 3. 3. 4. 4. 4. 3. 4. 3. 4. 5. 4. 4. 3. 5. 4. 3. 4. 2. 2. 4.]\n"
     ]
    }
   ],
   "source": [
    "#Predicting using decision tree model📊 \n",
    "prediction1 = classifier_DTC.predict(Xts)\n",
    "print(prediction1)"
   ]
  },
  {
   "cell_type": "code",
   "execution_count": 78,
   "id": "217e8ea1",
   "metadata": {},
   "outputs": [
    {
     "name": "stdout",
     "output_type": "stream",
     "text": [
      "[2. 4. 4. 4. 4. 2. 4. 4. 4. 4. 4. 4. 4. 4. 4. 4. 4. 4. 4. 2. 4. 2. 4. 4.\n",
      " 4. 4. 4. 4. 4. 4. 4. 4. 4. 4. 4. 4. 4. 4. 4. 4. 5. 4. 4. 4. 4. 4. 5. 4.\n",
      " 4. 4. 4. 2. 4. 4. 4. 4. 4. 4. 4. 4. 4. 4. 4. 4. 2. 4. 4. 4. 4. 4. 4. 4.\n",
      " 4. 4. 4. 4. 4. 4. 4. 4. 4. 4. 4. 4. 4. 4. 4. 4. 4. 4. 5. 4. 3. 2. 4. 4.\n",
      " 4. 4. 4. 4. 4. 4. 4. 4. 2. 4. 4. 4. 4. 4. 4. 4. 4. 4. 4. 4. 4. 4. 2. 4.\n",
      " 4. 4. 4. 4. 4. 4. 4. 4. 4. 4. 4. 4. 4. 4. 4. 4. 4. 4. 4. 4. 4. 4. 2. 4.\n",
      " 4. 4. 4. 4. 4. 4. 4. 4. 4. 4. 4. 4. 4. 4. 4. 4. 4. 4. 4. 4. 4. 4. 4. 4.\n",
      " 4. 4. 4. 4. 4. 4. 4. 4. 4. 4. 4. 4. 4. 4. 4. 4. 4. 4. 4. 4. 4. 4. 4. 4.\n",
      " 4. 4. 4. 4. 4. 4. 4. 4. 4. 4. 4. 4. 4. 4. 4. 4. 4. 3. 4. 3. 4. 4. 4. 4.\n",
      " 4. 4. 4. 4. 4. 4. 2. 4. 4. 4. 4. 4. 4. 4. 4. 4. 4. 4. 4. 4. 4. 4. 4. 4.\n",
      " 4. 4. 4. 2. 4. 4. 4. 4. 4. 4. 3. 4. 4. 4. 4. 4. 4. 4. 4. 4. 4. 4. 4. 4.\n",
      " 4. 4. 4. 4. 4. 4. 4. 4. 4. 4. 4. 4. 4. 4. 4. 4. 4. 4. 4. 4. 4. 4. 4. 4.\n",
      " 4. 4. 4. 4. 4. 4. 4. 4. 4. 4. 4. 4. 4. 4. 4. 4. 4. 4. 3. 4. 4. 4. 4. 4.\n",
      " 4. 4. 4. 4. 2. 4. 4. 4. 3. 4. 4. 4. 4. 4. 4. 4. 2. 3. 4. 4. 4. 4. 4. 4.\n",
      " 4. 4. 4. 4. 4. 4. 4. 2. 4. 4. 4. 4. 4. 4. 4. 4. 4. 4. 4. 4. 4. 4. 4. 4.\n",
      " 4. 4. 4. 4. 4. 5. 4. 4. 4. 4. 4. 2. 4. 4. 4. 4. 4. 4. 3. 4. 4. 4. 4. 4.\n",
      " 4. 4. 3. 4. 4. 4. 4. 2. 4. 4. 2. 3. 4. 4. 4. 4. 4. 4. 4. 4. 5. 5. 4. 4.\n",
      " 2. 4. 4. 2. 4. 4. 4. 4. 3. 4. 4. 4. 4. 4. 4. 4. 4. 4. 4. 4. 4. 4. 4. 4.\n",
      " 4. 4. 4. 4. 4. 4. 5. 4. 4. 4. 4. 4. 4. 4. 4. 4. 4. 4. 4. 4. 4. 4. 4. 4.\n",
      " 4. 4. 4. 4. 4. 4. 4. 4. 4. 4. 4. 4. 4. 4. 4. 4. 4. 4. 4. 4. 2. 4. 4.]\n"
     ]
    }
   ],
   "source": [
    "#Predicting using decision tree model📊 \n",
    "prediction2 = grid_search.predict(Xts)\n",
    "print(prediction2)"
   ]
  },
  {
   "cell_type": "code",
   "execution_count": 79,
   "id": "7a339612",
   "metadata": {},
   "outputs": [
    {
     "name": "stdout",
     "output_type": "stream",
     "text": [
      "[3. 3. 3. 4. 4. 2. 3. 3. 4. 3. 5. 3. 3. 4. 4. 4. 3. 4. 3. 2. 5. 2. 3. 4.\n",
      " 4. 3. 4. 4. 3. 4. 4. 4. 3. 4. 3. 4. 4. 4. 2. 2. 3. 3. 3. 4. 4. 3. 2. 2.\n",
      " 2. 3. 5. 2. 4. 4. 3. 4. 4. 3. 3. 4. 4. 3. 4. 3. 2. 3. 4. 2. 3. 3. 2. 4.\n",
      " 4. 3. 4. 4. 4. 4. 3. 3. 3. 2. 4. 4. 4. 2. 4. 5. 3. 3. 3. 3. 2. 5. 3. 3.\n",
      " 3. 3. 2. 3. 4. 5. 4. 4. 3. 2. 2. 4. 3. 4. 3. 4. 3. 3. 4. 2. 4. 3. 2. 3.\n",
      " 2. 3. 4. 4. 4. 5. 4. 4. 4. 4. 3. 4. 2. 3. 3. 3. 3. 4. 4. 3. 2. 4. 2. 4.\n",
      " 3. 3. 3. 4. 4. 3. 4. 2. 4. 4. 2. 3. 3. 4. 5. 4. 2. 4. 3. 3. 2. 4. 4. 3.\n",
      " 3. 4. 4. 4. 4. 3. 3. 3. 3. 4. 4. 4. 4. 3. 2. 3. 3. 4. 4. 2. 4. 3. 3. 2.\n",
      " 3. 4. 4. 5. 3. 3. 3. 4. 3. 3. 3. 4. 4. 2. 3. 2. 2. 2. 3. 2. 3. 3. 3. 3.\n",
      " 4. 3. 3. 3. 4. 2. 2. 4. 3. 3. 3. 4. 4. 2. 3. 3. 4. 2. 4. 4. 4. 4. 5. 4.\n",
      " 4. 3. 3. 2. 3. 5. 3. 4. 3. 3. 2. 4. 3. 4. 2. 3. 3. 3. 3. 3. 4. 4. 3. 3.\n",
      " 3. 4. 3. 3. 4. 3. 3. 3. 4. 3. 4. 3. 3. 4. 4. 3. 4. 3. 3. 4. 3. 3. 4. 3.\n",
      " 4. 3. 3. 3. 4. 3. 3. 4. 4. 4. 3. 2. 3. 4. 3. 2. 4. 4. 4. 3. 3. 3. 3. 3.\n",
      " 2. 3. 4. 3. 2. 3. 3. 4. 3. 3. 3. 3. 3. 3. 3. 3. 2. 2. 4. 3. 3. 4. 3. 4.\n",
      " 3. 3. 3. 4. 3. 4. 3. 2. 3. 4. 4. 4. 3. 4. 3. 4. 3. 4. 3. 3. 3. 3. 3. 3.\n",
      " 3. 4. 2. 2. 4. 2. 2. 4. 2. 2. 2. 2. 3. 3. 3. 4. 3. 4. 2. 4. 4. 3. 2. 4.\n",
      " 4. 3. 2. 2. 3. 3. 3. 3. 3. 3. 2. 2. 4. 3. 2. 3. 3. 4. 4. 4. 4. 2. 3. 3.\n",
      " 2. 4. 2. 2. 4. 4. 2. 2. 2. 4. 2. 3. 4. 3. 3. 4. 3. 3. 4. 3. 3. 4. 4. 3.\n",
      " 4. 3. 3. 3. 2. 2. 3. 4. 3. 4. 4. 3. 4. 4. 3. 4. 4. 4. 3. 3. 4. 3. 3. 4.\n",
      " 3. 4. 4. 3. 3. 4. 4. 3. 3. 4. 3. 4. 4. 3. 3. 3. 3. 4. 4. 3. 2. 2. 3.]\n"
     ]
    }
   ],
   "source": [
    "#Predicting using naive bayes model📊 \n",
    "prediction3 = classifier_GNB.predict(Xts)\n",
    "print(prediction3)"
   ]
  },
  {
   "cell_type": "code",
   "execution_count": 80,
   "id": "b219e490",
   "metadata": {},
   "outputs": [
    {
     "name": "stdout",
     "output_type": "stream",
     "text": [
      "[4. 4. 4. 4. 4. 4. 4. 4. 4. 4. 4. 4. 4. 4. 4. 4. 4. 4. 4. 4. 4. 4. 3. 4.\n",
      " 4. 4. 4. 4. 4. 4. 4. 4. 4. 4. 4. 4. 4. 4. 4. 4. 5. 4. 3. 4. 4. 3. 4. 4.\n",
      " 4. 4. 4. 5. 4. 4. 4. 4. 4. 4. 4. 4. 4. 4. 4. 4. 4. 4. 4. 4. 4. 4. 4. 4.\n",
      " 4. 4. 4. 4. 4. 4. 4. 4. 4. 4. 4. 4. 4. 4. 4. 4. 4. 5. 4. 4. 3. 5. 4. 4.\n",
      " 4. 4. 4. 4. 4. 4. 4. 4. 4. 4. 4. 4. 4. 4. 4. 4. 4. 4. 4. 4. 4. 4. 5. 4.\n",
      " 4. 4. 3. 4. 4. 4. 4. 4. 4. 4. 4. 4. 4. 4. 4. 4. 4. 4. 4. 4. 5. 4. 4. 4.\n",
      " 4. 4. 4. 4. 4. 4. 4. 4. 4. 4. 3. 4. 4. 4. 4. 4. 4. 4. 4. 4. 3. 4. 4. 4.\n",
      " 4. 4. 4. 4. 4. 3. 4. 4. 4. 4. 4. 4. 4. 4. 4. 4. 4. 4. 4. 4. 4. 4. 4. 4.\n",
      " 4. 4. 4. 4. 4. 3. 4. 4. 4. 4. 4. 4. 4. 4. 4. 4. 4. 4. 4. 3. 4. 4. 4. 4.\n",
      " 4. 4. 4. 4. 4. 4. 4. 4. 4. 4. 4. 4. 4. 4. 4. 4. 4. 4. 4. 4. 4. 4. 4. 4.\n",
      " 4. 4. 3. 4. 4. 4. 4. 4. 4. 4. 3. 4. 4. 4. 4. 4. 4. 4. 4. 4. 4. 4. 4. 4.\n",
      " 4. 4. 4. 4. 4. 4. 4. 4. 4. 4. 4. 4. 4. 4. 4. 4. 4. 4. 3. 4. 4. 4. 4. 4.\n",
      " 4. 4. 4. 4. 4. 4. 4. 4. 4. 4. 4. 4. 4. 4. 4. 4. 4. 4. 4. 4. 4. 4. 4. 4.\n",
      " 4. 4. 4. 4. 5. 4. 4. 4. 4. 4. 3. 4. 4. 4. 4. 4. 4. 4. 4. 4. 4. 4. 4. 4.\n",
      " 4. 4. 4. 4. 4. 4. 4. 3. 4. 4. 4. 4. 3. 4. 4. 4. 4. 4. 4. 4. 4. 4. 4. 4.\n",
      " 4. 4. 4. 4. 4. 4. 4. 4. 4. 4. 3. 4. 4. 3. 4. 4. 4. 4. 3. 4. 4. 4. 4. 4.\n",
      " 4. 4. 3. 3. 4. 4. 4. 4. 4. 3. 4. 4. 4. 4. 4. 4. 4. 4. 4. 4. 4. 5. 4. 4.\n",
      " 5. 4. 4. 5. 4. 4. 3. 4. 3. 4. 4. 4. 4. 4. 4. 4. 4. 4. 4. 3. 4. 4. 4. 4.\n",
      " 4. 4. 4. 4. 4. 4. 4. 4. 4. 4. 4. 4. 4. 4. 4. 4. 4. 4. 4. 4. 4. 4. 4. 4.\n",
      " 4. 4. 4. 3. 3. 4. 4. 4. 4. 4. 4. 4. 4. 4. 4. 4. 4. 4. 4. 4. 2. 4. 4.]\n"
     ]
    }
   ],
   "source": [
    "#Predicting using support vector model📊 \n",
    "prediction4 = grid_classifier_SVC.predict(Xts)\n",
    "print(prediction4)"
   ]
  },
  {
   "cell_type": "code",
   "execution_count": 81,
   "id": "d3dbbba8",
   "metadata": {},
   "outputs": [],
   "source": [
    "pred_df = pd.DataFrame(data={'id': ids, 'rating': prediction2})\n",
    "\n",
    "pred_df.to_csv('pred_walkthroughT.csv', index=False)"
   ]
  },
  {
   "cell_type": "code",
   "execution_count": 82,
   "id": "4f039079",
   "metadata": {},
   "outputs": [
    {
     "data": {
      "text/plain": [
       "0.8272727272727273"
      ]
     },
     "execution_count": 82,
     "metadata": {},
     "output_type": "execute_result"
    }
   ],
   "source": [
    "#Randomforest without a grid search\n",
    "from sklearn.metrics import accuracy_score, confusion_matrix\n",
    "from sklearn.ensemble import RandomForestClassifier\n",
    "\n",
    "clf1 = RandomForestClassifier(random_state=1)\n",
    "clf1.fit(X_tr, y_tr)\n",
    "\n",
    "y_pred = clf1.predict(X_ts)\n",
    "\n",
    "accuracy_score(y_pred, y_ts)"
   ]
  },
  {
   "cell_type": "code",
   "execution_count": 83,
   "id": "cbb6a79e",
   "metadata": {},
   "outputs": [
    {
     "name": "stdout",
     "output_type": "stream",
     "text": [
      "[5. 4. 4. 4. 4. 5. 4. 4. 4. 4. 4. 4. 4. 4. 4. 4. 4. 4. 3. 5. 4. 5. 3. 4.\n",
      " 4. 4. 4. 5. 4. 4. 4. 4. 4. 4. 4. 4. 4. 4. 4. 4. 5. 4. 3. 4. 4. 3. 5. 4.\n",
      " 4. 4. 4. 5. 4. 4. 4. 4. 4. 4. 4. 4. 4. 4. 4. 4. 4. 4. 4. 4. 4. 4. 4. 4.\n",
      " 4. 4. 4. 4. 4. 4. 4. 4. 4. 4. 4. 4. 4. 4. 4. 4. 4. 5. 5. 4. 3. 5. 4. 4.\n",
      " 4. 4. 4. 4. 4. 4. 4. 4. 5. 4. 4. 4. 4. 4. 4. 4. 4. 4. 4. 4. 4. 4. 5. 4.\n",
      " 4. 4. 3. 4. 4. 4. 4. 4. 4. 4. 4. 4. 4. 4. 4. 4. 4. 4. 4. 4. 5. 4. 5. 4.\n",
      " 4. 4. 4. 4. 4. 4. 4. 4. 4. 4. 3. 4. 4. 4. 4. 4. 4. 4. 4. 4. 3. 4. 4. 4.\n",
      " 4. 4. 4. 4. 4. 3. 4. 4. 4. 4. 4. 4. 4. 4. 4. 4. 4. 4. 4. 4. 4. 4. 4. 4.\n",
      " 4. 4. 4. 4. 4. 3. 4. 4. 4. 4. 4. 4. 4. 4. 4. 4. 4. 4. 4. 3. 4. 4. 4. 4.\n",
      " 4. 4. 4. 4. 4. 4. 5. 4. 4. 4. 4. 4. 5. 4. 4. 4. 4. 4. 4. 4. 4. 4. 4. 4.\n",
      " 4. 4. 3. 5. 4. 4. 4. 4. 4. 4. 3. 4. 4. 4. 4. 4. 4. 4. 4. 4. 4. 4. 4. 4.\n",
      " 4. 4. 4. 4. 4. 4. 4. 4. 4. 4. 4. 4. 4. 4. 4. 4. 4. 4. 3. 4. 4. 5. 4. 4.\n",
      " 4. 4. 4. 4. 4. 4. 4. 4. 4. 4. 4. 4. 4. 4. 4. 4. 4. 4. 4. 4. 4. 4. 4. 4.\n",
      " 4. 4. 4. 4. 5. 4. 4. 4. 3. 4. 3. 4. 4. 4. 5. 4. 5. 3. 4. 4. 4. 4. 4. 4.\n",
      " 4. 4. 4. 5. 4. 4. 4. 3. 4. 4. 4. 4. 3. 4. 3. 4. 4. 4. 4. 4. 4. 4. 4. 4.\n",
      " 4. 4. 4. 4. 4. 4. 4. 4. 4. 4. 3. 5. 4. 3. 4. 4. 4. 4. 3. 4. 4. 4. 4. 4.\n",
      " 4. 4. 3. 4. 4. 4. 4. 5. 4. 3. 5. 3. 4. 4. 4. 4. 4. 4. 4. 4. 5. 5. 4. 4.\n",
      " 5. 4. 4. 5. 4. 4. 3. 4. 3. 4. 3. 4. 4. 4. 4. 4. 4. 4. 4. 3. 4. 4. 4. 4.\n",
      " 4. 4. 4. 4. 4. 4. 5. 4. 4. 4. 4. 4. 4. 4. 4. 4. 4. 4. 4. 4. 4. 4. 4. 4.\n",
      " 4. 4. 4. 3. 3. 4. 4. 4. 4. 4. 4. 4. 4. 4. 4. 4. 5. 4. 4. 4. 2. 4. 4.]\n"
     ]
    }
   ],
   "source": [
    "prediction5 = clf1.predict(Xts)\n",
    "print(prediction5)"
   ]
  },
  {
   "cell_type": "code",
   "execution_count": 84,
   "id": "cea40010",
   "metadata": {},
   "outputs": [],
   "source": [
    "#convert it to csv to submit it to kaggle \n",
    "pred_df = pd.DataFrame(data={'id': ids, 'rating': prediction5})\n",
    "\n",
    "pred_df.to_csv('pred_walkthroughT11.csv', index=False)"
   ]
  },
  {
   "cell_type": "code",
   "execution_count": null,
   "id": "10b792f8",
   "metadata": {},
   "outputs": [],
   "source": [
    "#convert it to csv to submit it to kaggle \n",
    "pred_df = pd.DataFrame(data={'id': ids, 'rating': prediction4})\n",
    "\n",
    "pred_df.to_csv('pred_walkthroughT11.csv', index=False)"
   ]
  },
  {
   "cell_type": "code",
   "execution_count": null,
   "id": "65a949a2",
   "metadata": {},
   "outputs": [],
   "source": [
    "#convert it to csv to submit it to kaggle \n",
    "pred_df = pd.DataFrame(data={'id': ids, 'rating': prediction3})\n",
    "\n",
    "pred_df.to_csv('pred_walkthroughT11.csv', index=False)"
   ]
  },
  {
   "cell_type": "code",
   "execution_count": null,
   "id": "13e1516a",
   "metadata": {},
   "outputs": [],
   "source": [
    "#convert it to csv to submit it to kaggle \n",
    "pred_df = pd.DataFrame(data={'id': ids, 'rating': prediction2})\n",
    "\n",
    "pred_df.to_csv('pred_walkthroughT11.csv', index=False)"
   ]
  },
  {
   "cell_type": "code",
   "execution_count": null,
   "id": "2458e739",
   "metadata": {},
   "outputs": [],
   "source": [
    "#convert it to csv to submit it to kaggle \n",
    "pred_df = pd.DataFrame(data={'id': ids, 'rating': prediction1})\n",
    "\n",
    "pred_df.to_csv('pred_walkthroughT11.csv', index=False)"
   ]
  },
  {
   "cell_type": "code",
   "execution_count": 85,
   "id": "ab176ec0",
   "metadata": {},
   "outputs": [],
   "source": [
    "rfc=RandomForestClassifier(random_state=42)"
   ]
  },
  {
   "cell_type": "code",
   "execution_count": 86,
   "id": "f8bb85d8",
   "metadata": {},
   "outputs": [],
   "source": [
    "#Randomforest with a grid search\n",
    "\n",
    "param_grid = { \n",
    "    'n_estimators': [200, 500],\n",
    "    'max_features': ['auto', 'sqrt', 'log2'],\n",
    "    'max_depth' : [4,5,6,7,8],\n",
    "    'criterion' :['gini', 'entropy']\n",
    "}"
   ]
  },
  {
   "cell_type": "code",
   "execution_count": 87,
   "id": "506de521",
   "metadata": {},
   "outputs": [
    {
     "data": {
      "text/plain": [
       "GridSearchCV(cv=5, estimator=RandomForestClassifier(random_state=42),\n",
       "             param_grid={'criterion': ['gini', 'entropy'],\n",
       "                         'max_depth': [4, 5, 6, 7, 8],\n",
       "                         'max_features': ['auto', 'sqrt', 'log2'],\n",
       "                         'n_estimators': [200, 500]})"
      ]
     },
     "execution_count": 87,
     "metadata": {},
     "output_type": "execute_result"
    }
   ],
   "source": [
    "CV_rfc = GridSearchCV(estimator=rfc, param_grid=param_grid, cv= 5)\n",
    "CV_rfc.fit(X_tr, y_tr)"
   ]
  },
  {
   "cell_type": "code",
   "execution_count": 88,
   "id": "294f72ee",
   "metadata": {},
   "outputs": [
    {
     "data": {
      "text/plain": [
       "{'criterion': 'gini',\n",
       " 'max_depth': 8,\n",
       " 'max_features': 'auto',\n",
       " 'n_estimators': 500}"
      ]
     },
     "execution_count": 88,
     "metadata": {},
     "output_type": "execute_result"
    }
   ],
   "source": [
    "CV_rfc.best_params_"
   ]
  },
  {
   "cell_type": "code",
   "execution_count": 89,
   "id": "7fccc66f",
   "metadata": {},
   "outputs": [],
   "source": [
    "rfc1=RandomForestClassifier(random_state=42, max_features='auto', n_estimators= 500, max_depth=8, criterion='gini')"
   ]
  },
  {
   "cell_type": "code",
   "execution_count": 90,
   "id": "28786ad7",
   "metadata": {},
   "outputs": [
    {
     "data": {
      "text/plain": [
       "RandomForestClassifier(max_depth=8, n_estimators=500, random_state=42)"
      ]
     },
     "execution_count": 90,
     "metadata": {},
     "output_type": "execute_result"
    }
   ],
   "source": [
    "rfc1.fit(X_tr, y_tr)\n"
   ]
  },
  {
   "cell_type": "code",
   "execution_count": 91,
   "id": "6b2b2792",
   "metadata": {},
   "outputs": [
    {
     "data": {
      "text/plain": [
       "0.7818181818181819"
      ]
     },
     "execution_count": 91,
     "metadata": {},
     "output_type": "execute_result"
    }
   ],
   "source": [
    "y_pred1 = rfc1.predict(X_ts)\n",
    "\n",
    "accuracy_score(y_pred1, y_ts)"
   ]
  },
  {
   "cell_type": "code",
   "execution_count": 92,
   "id": "0fa1bca5",
   "metadata": {},
   "outputs": [
    {
     "name": "stdout",
     "output_type": "stream",
     "text": [
      "[5. 4. 4. 4. 4. 5. 4. 4. 4. 4. 4. 4. 4. 4. 4. 4. 4. 4. 3. 5. 4. 5. 3. 4.\n",
      " 4. 4. 4. 5. 4. 4. 4. 4. 4. 4. 4. 4. 4. 4. 4. 4. 5. 4. 3. 4. 4. 3. 5. 4.\n",
      " 4. 4. 4. 5. 4. 4. 4. 4. 4. 4. 4. 4. 4. 4. 4. 4. 4. 4. 4. 4. 4. 4. 4. 4.\n",
      " 4. 4. 4. 4. 4. 4. 4. 4. 4. 4. 4. 4. 4. 4. 4. 4. 4. 5. 5. 4. 3. 5. 4. 4.\n",
      " 4. 4. 4. 4. 4. 4. 4. 4. 5. 4. 4. 4. 4. 4. 4. 4. 4. 4. 4. 4. 4. 4. 5. 4.\n",
      " 4. 4. 3. 4. 4. 4. 4. 4. 4. 4. 4. 4. 4. 4. 4. 4. 4. 4. 4. 4. 5. 4. 5. 4.\n",
      " 4. 4. 4. 4. 4. 4. 4. 4. 4. 4. 3. 4. 4. 4. 4. 4. 4. 4. 4. 4. 3. 4. 4. 4.\n",
      " 4. 4. 4. 4. 4. 3. 4. 4. 4. 4. 4. 4. 4. 4. 4. 4. 4. 4. 4. 4. 4. 4. 4. 4.\n",
      " 4. 4. 4. 4. 4. 3. 4. 4. 4. 4. 4. 4. 4. 4. 4. 4. 4. 4. 4. 3. 4. 4. 4. 4.\n",
      " 4. 4. 4. 4. 4. 4. 5. 4. 4. 4. 4. 4. 5. 4. 4. 4. 4. 4. 4. 4. 4. 4. 4. 4.\n",
      " 4. 4. 3. 5. 4. 4. 4. 4. 4. 4. 3. 4. 4. 4. 4. 4. 4. 4. 4. 4. 4. 4. 4. 4.\n",
      " 4. 4. 4. 4. 4. 4. 4. 4. 4. 4. 4. 4. 4. 4. 4. 4. 4. 4. 3. 4. 4. 5. 4. 4.\n",
      " 4. 4. 4. 4. 4. 4. 4. 4. 4. 4. 4. 4. 4. 4. 4. 4. 4. 4. 4. 4. 4. 4. 4. 4.\n",
      " 4. 4. 4. 4. 5. 4. 4. 4. 3. 4. 3. 4. 4. 4. 5. 4. 5. 3. 4. 4. 4. 4. 4. 4.\n",
      " 4. 4. 4. 5. 4. 4. 4. 3. 4. 4. 4. 4. 3. 4. 3. 4. 4. 4. 4. 4. 4. 4. 4. 4.\n",
      " 4. 4. 4. 4. 4. 4. 4. 4. 4. 4. 3. 5. 4. 3. 4. 4. 4. 4. 3. 4. 4. 4. 4. 4.\n",
      " 4. 4. 3. 4. 4. 4. 4. 5. 4. 3. 5. 3. 4. 4. 4. 4. 4. 4. 4. 4. 5. 5. 4. 4.\n",
      " 5. 4. 4. 5. 4. 4. 3. 4. 3. 4. 3. 4. 4. 4. 4. 4. 4. 4. 4. 3. 4. 4. 4. 4.\n",
      " 4. 4. 4. 4. 4. 4. 5. 4. 4. 4. 4. 4. 4. 4. 4. 4. 4. 4. 4. 4. 4. 4. 4. 4.\n",
      " 4. 4. 4. 3. 3. 4. 4. 4. 4. 4. 4. 4. 4. 4. 4. 4. 5. 4. 4. 4. 2. 4. 4.]\n"
     ]
    }
   ],
   "source": [
    "prediction6 = clf1.predict(Xts)\n",
    "print(prediction6)"
   ]
  },
  {
   "cell_type": "code",
   "execution_count": 93,
   "id": "52425b18",
   "metadata": {},
   "outputs": [],
   "source": [
    "pred_df1 = pd.DataFrame(data={'id': ids, 'rating': prediction6})\n",
    "\n",
    "pred_df1.to_csv('pred_walkthroughT3.csv', index=False)"
   ]
  },
  {
   "cell_type": "code",
   "execution_count": 94,
   "id": "ebf53c32",
   "metadata": {},
   "outputs": [],
   "source": [
    "#Decision tree accuracy is 80% \n",
    "#naive bayes is 0.6\n",
    "#SVM is 0.75\n",
    "#the best accuracy was on random forest with an accuracy 0.82"
   ]
  },
  {
   "cell_type": "markdown",
   "id": "3add9ae6",
   "metadata": {},
   "source": [
    "## Why Data Mining is a misnomer? What is another preferred name?\n",
    "•\tThe goal is the extraction of patterns and knowledge from large amounts of data, not the extraction (mining) of data itself.\n",
    "\n",
    "\n",
    "•\tThe other preferred name for data mining is: Knowledge discovery (mining) in databases (KDD), knowledge extraction in computer science, the process of discovering interesting and useful patterns and relationships in large volumes of data. Data archeology, data dredging, information harvesting, business intelligence, etc.\n"
   ]
  },
  {
   "cell_type": "markdown",
   "id": "4522d3bf",
   "metadata": {},
   "source": [
    "## What is the general knowledge discovery process? What is the difference between a data engineer and data scientist/AI engineer?\n",
    "•\tThe knowledge discovery process (KDP), also called knowledge discovery in databases, seeks new knowledge in some application domain IT involves( data selection, data cleaning and preprocessing, data transformation, data mining, pattern evaluation,deployment)\n",
    "\n",
    "•\tData engineers are responsible for forming and keeping the infrastructure and data architecture that support an organization’s IT systems. they need to have skills in programming, data storage, dbms, while Data scientists and AI engineers are people who analyze large amounts of data using statistical methods, especially AI and ML. Modern companies nowadays need data scientists to help them determine which ads to show customers for example\n"
   ]
  },
  {
   "cell_type": "markdown",
   "id": "7b2dad0d",
   "metadata": {},
   "source": [
    "## In data mining, what is the difference between prediction and categorization?\n",
    "•\tIn the prediction technique, we need to predict the missing or unavailable value of the dataset. \n",
    "\n",
    "•\tThe classification technique is used to categorise the data, depending on its similarities and to identify the class.The accuracy relies on how well you guess the value for new data. \n",
    "\n",
    "•\tConstruct models (functions) based on some training examples\n",
    "\n",
    "•\t Describe and distinguish classes or concepts for future prediction\n"
   ]
  },
  {
   "cell_type": "markdown",
   "id": "1fbc6ef2",
   "metadata": {},
   "source": [
    "## Why data science/machine learning is a bad idea in the context of information security?\n",
    "• Attacks\n",
    "        • Adversarial (front-end) - Confidentiality\n",
    "        \n",
    "        • Backdoor/data poisoning (data source) – Integrity\n",
    "        \n",
    "        • Training data reconstruction – Confidentiality (privacy)\n",
    "        \n",
    "        • Steeling the model - Confidentiality\n",
    "        \n",
    "        • Membership inference - Confidentiality (privacy)\n",
    "        \n",
    "\n",
    "• Increased risk of data breach and fine\n",
    "\n",
    "• Increased uncertainty\n",
    "\n",
    "• Difficult to evaluate change in AI\n",
    "\n",
    "• Difficult to verify against compliance\n",
    "\n",
    "• Responsibility, accountability, liability\n",
    "\n",
    "• Should be part of the risk management framework\n",
    "\n"
   ]
  },
  {
   "cell_type": "markdown",
   "id": "6dcb3d40",
   "metadata": {},
   "source": [
    "## What is CIA principle and how can we use it to access the security/privacy aspect of the AI system/pipelines?\n",
    "\n",
    "The CIA trio is a concept for guiding information security policy within an organisation. To prevent confusion with the Central Intelligence Agency, the paradigm is often known as the AIC triad (availability, integrity, and confidentiality).\n",
    "•\tConfidentiality:\n",
    "\n",
    "•\tPersonal information (authentication)\n",
    "\n",
    "•\tProprietary information (authorization)\n",
    "\n",
    "•\tGovernment classified information (encryption) \\\n",
    "\n",
    "•\tIntegrity:\n",
    "\n",
    "•\tUnauthorized transactions\n",
    "\n",
    "•\tWrong execution of software\n",
    "\n",
    "•\tAvailability:\n",
    "\n",
    "•\tDenial of Service\n",
    "\n",
    "•\tLoss of Data\n",
    "\n"
   ]
  }
 ],
 "metadata": {
  "kernelspec": {
   "display_name": "Python 3 (ipykernel)",
   "language": "python",
   "name": "python3"
  },
  "language_info": {
   "codemirror_mode": {
    "name": "ipython",
    "version": 3
   },
   "file_extension": ".py",
   "mimetype": "text/x-python",
   "name": "python",
   "nbconvert_exporter": "python",
   "pygments_lexer": "ipython3",
   "version": "3.9.13"
  }
 },
 "nbformat": 4,
 "nbformat_minor": 5
}
